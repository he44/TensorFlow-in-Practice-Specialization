{
 "cells": [
  {
   "cell_type": "markdown",
   "metadata": {
    "colab_type": "text",
    "id": "rX8mhOLljYeM"
   },
   "source": [
    "##### Copyright 2019 The TensorFlow Authors."
   ]
  },
  {
   "cell_type": "code",
   "execution_count": null,
   "metadata": {
    "cellView": "form",
    "colab": {},
    "colab_type": "code",
    "id": "BZSlp3DAjdYf"
   },
   "outputs": [],
   "source": [
    "#@title Licensed under the Apache License, Version 2.0 (the \"License\");\n",
    "# you may not use this file except in compliance with the License.\n",
    "# You may obtain a copy of the License at\n",
    "#\n",
    "# https://www.apache.org/licenses/LICENSE-2.0\n",
    "#\n",
    "# Unless required by applicable law or agreed to in writing, software\n",
    "# distributed under the License is distributed on an \"AS IS\" BASIS,\n",
    "# WITHOUT WARRANTIES OR CONDITIONS OF ANY KIND, either express or implied.\n",
    "# See the License for the specific language governing permissions and\n",
    "# limitations under the License."
   ]
  },
  {
   "cell_type": "code",
   "execution_count": null,
   "metadata": {
    "colab": {},
    "colab_type": "code",
    "id": "RXZT2UsyIVe_"
   },
   "outputs": [],
   "source": [
    "!wget --no-check-certificate \\\n",
    "    https://storage.googleapis.com/laurencemoroney-blog.appspot.com/horse-or-human.zip \\\n",
    "    -O /tmp/horse-or-human.zip\n",
    "\n",
    "!wget --no-check-certificate \\\n",
    "    https://storage.googleapis.com/laurencemoroney-blog.appspot.com/validation-horse-or-human.zip \\\n",
    "    -O /tmp/validation-horse-or-human.zip\n",
    "  \n",
    "import os\n",
    "import zipfile\n",
    "\n",
    "local_zip = '/tmp/horse-or-human.zip'\n",
    "zip_ref = zipfile.ZipFile(local_zip, 'r')\n",
    "zip_ref.extractall('/tmp/horse-or-human')\n",
    "local_zip = '/tmp/validation-horse-or-human.zip'\n",
    "zip_ref = zipfile.ZipFile(local_zip, 'r')\n",
    "zip_ref.extractall('/tmp/validation-horse-or-human')\n",
    "zip_ref.close()\n",
    "# Directory with our training horse pictures\n",
    "train_horse_dir = os.path.join('/tmp/horse-or-human/horses')\n",
    "\n",
    "# Directory with our training human pictures\n",
    "train_human_dir = os.path.join('/tmp/horse-or-human/humans')\n",
    "\n",
    "# Directory with our training horse pictures\n",
    "validation_horse_dir = os.path.join('/tmp/validation-horse-or-human/horses')\n",
    "\n",
    "# Directory with our training human pictures\n",
    "validation_human_dir = os.path.join('/tmp/validation-horse-or-human/humans')"
   ]
  },
  {
   "cell_type": "markdown",
   "metadata": {
    "colab_type": "text",
    "id": "5oqBkNBJmtUv"
   },
   "source": [
    "## Building a Small Model from Scratch\n",
    "\n",
    "But before we continue, let's start defining the model:\n",
    "\n",
    "Step 1 will be to import tensorflow."
   ]
  },
  {
   "cell_type": "code",
   "execution_count": null,
   "metadata": {
    "colab": {},
    "colab_type": "code",
    "id": "qvfZg3LQbD-5"
   },
   "outputs": [],
   "source": [
    "import tensorflow as tf"
   ]
  },
  {
   "cell_type": "markdown",
   "metadata": {
    "colab_type": "text",
    "id": "BnhYCP4tdqjC"
   },
   "source": [
    "We then add convolutional layers as in the previous example, and flatten the final result to feed into the densely connected layers."
   ]
  },
  {
   "cell_type": "markdown",
   "metadata": {
    "colab_type": "text",
    "id": "gokG5HKpdtzm"
   },
   "source": [
    "Finally we add the densely connected layers. \n",
    "\n",
    "Note that because we are facing a two-class classification problem, i.e. a *binary classification problem*, we will end our network with a [*sigmoid* activation](https://wikipedia.org/wiki/Sigmoid_function), so that the output of our network will be a single scalar between 0 and 1, encoding the probability that the current image is class 1 (as opposed to class 0)."
   ]
  },
  {
   "cell_type": "code",
   "execution_count": null,
   "metadata": {
    "colab": {},
    "colab_type": "code",
    "id": "PixZ2s5QbYQ3"
   },
   "outputs": [],
   "source": [
    "model = tf.keras.models.Sequential([\n",
    "    # Note the input shape is the desired size of the image 300x300 with 3 bytes color\n",
    "    # This is the first convolution\n",
    "    tf.keras.layers.Conv2D(16, (3,3), activation='relu', input_shape=(300, 300, 3)),\n",
    "    tf.keras.layers.MaxPooling2D(2, 2),\n",
    "    # The second convolution\n",
    "    tf.keras.layers.Conv2D(32, (3,3), activation='relu'),\n",
    "    tf.keras.layers.MaxPooling2D(2,2),\n",
    "    # The third convolution\n",
    "    tf.keras.layers.Conv2D(64, (3,3), activation='relu'),\n",
    "    tf.keras.layers.MaxPooling2D(2,2),\n",
    "    # The fourth convolution\n",
    "    tf.keras.layers.Conv2D(64, (3,3), activation='relu'),\n",
    "    tf.keras.layers.MaxPooling2D(2,2),\n",
    "    # The fifth convolution\n",
    "    tf.keras.layers.Conv2D(64, (3,3), activation='relu'),\n",
    "    tf.keras.layers.MaxPooling2D(2,2),\n",
    "    # Flatten the results to feed into a DNN\n",
    "    tf.keras.layers.Flatten(),\n",
    "    # 512 neuron hidden layer\n",
    "    tf.keras.layers.Dense(512, activation='relu'),\n",
    "    # Only 1 output neuron. It will contain a value from 0-1 where 0 for 1 class ('horses') and 1 for the other ('humans')\n",
    "    tf.keras.layers.Dense(1, activation='sigmoid')\n",
    "])"
   ]
  },
  {
   "cell_type": "code",
   "execution_count": null,
   "metadata": {
    "colab": {},
    "colab_type": "code",
    "id": "8DHWhFP_uhq3"
   },
   "outputs": [],
   "source": [
    "from tensorflow.keras.optimizers import RMSprop\n",
    "\n",
    "model.compile(loss='binary_crossentropy',\n",
    "              optimizer=RMSprop(lr=1e-4),\n",
    "              metrics=['accuracy'])"
   ]
  },
  {
   "cell_type": "code",
   "execution_count": null,
   "metadata": {
    "colab": {},
    "colab_type": "code",
    "id": "ClebU9NJg99G"
   },
   "outputs": [],
   "source": [
    "from tensorflow.keras.preprocessing.image import ImageDataGenerator\n",
    "\n",
    "# All images will be rescaled by 1./255\n",
    "train_datagen = ImageDataGenerator(\n",
    "      rescale=1./255,\n",
    "      rotation_range=40,\n",
    "      width_shift_range=0.2,\n",
    "      height_shift_range=0.2,\n",
    "      shear_range=0.2,\n",
    "      zoom_range=0.2,\n",
    "      horizontal_flip=True,\n",
    "      fill_mode='nearest')\n",
    "\n",
    "validation_datagen = ImageDataGenerator(rescale=1/255)\n",
    "\n",
    "# Flow training images in batches of 128 using train_datagen generator\n",
    "train_generator = train_datagen.flow_from_directory(\n",
    "        '/tmp/horse-or-human/',  # This is the source directory for training images\n",
    "        target_size=(300, 300),  # All images will be resized to 150x150\n",
    "        batch_size=128,\n",
    "        # Since we use binary_crossentropy loss, we need binary labels\n",
    "        class_mode='binary')\n",
    "\n",
    "# Flow training images in batches of 128 using train_datagen generator\n",
    "validation_generator = validation_datagen.flow_from_directory(\n",
    "        '/tmp/validation-horse-or-human/',  # This is the source directory for training images\n",
    "        target_size=(300, 300),  # All images will be resized to 150x150\n",
    "        batch_size=32,\n",
    "        # Since we use binary_crossentropy loss, we need binary labels\n",
    "        class_mode='binary')"
   ]
  },
  {
   "cell_type": "code",
   "execution_count": 6,
   "metadata": {
    "colab": {
     "base_uri": "https://localhost:8080/",
     "height": 1000
    },
    "colab_type": "code",
    "id": "Fb1_lgobv81m",
    "outputId": "dfcf4832-5a3a-4761-fc6a-5d4cee7eeaf9"
   },
   "outputs": [
    {
     "name": "stdout",
     "output_type": "stream",
     "text": [
      "Epoch 1/100\n",
      "8/8 [==============================] - 18s 2s/step - loss: 0.6966 - accuracy: 0.5295 - val_loss: 0.6662 - val_accuracy: 0.8516\n",
      "Epoch 2/100\n",
      "8/8 [==============================] - 20s 2s/step - loss: 0.6900 - accuracy: 0.6207 - val_loss: 0.6494 - val_accuracy: 0.5000\n",
      "Epoch 3/100\n",
      "8/8 [==============================] - 20s 2s/step - loss: 0.6644 - accuracy: 0.6185 - val_loss: 0.6496 - val_accuracy: 0.5820\n",
      "Epoch 4/100\n",
      "8/8 [==============================] - 19s 2s/step - loss: 0.6395 - accuracy: 0.6885 - val_loss: 0.5849 - val_accuracy: 0.7969\n",
      "Epoch 5/100\n",
      "8/8 [==============================] - 20s 2s/step - loss: 0.5925 - accuracy: 0.7219 - val_loss: 0.7791 - val_accuracy: 0.5312\n",
      "Epoch 6/100\n",
      "8/8 [==============================] - 20s 2s/step - loss: 0.5890 - accuracy: 0.6852 - val_loss: 0.7056 - val_accuracy: 0.5820\n",
      "Epoch 7/100\n",
      "8/8 [==============================] - 20s 2s/step - loss: 0.5500 - accuracy: 0.7241 - val_loss: 0.8879 - val_accuracy: 0.5391\n",
      "Epoch 8/100\n",
      "8/8 [==============================] - 20s 2s/step - loss: 0.5343 - accuracy: 0.7386 - val_loss: 0.7687 - val_accuracy: 0.5859\n",
      "Epoch 9/100\n",
      "8/8 [==============================] - 19s 2s/step - loss: 0.5133 - accuracy: 0.7475 - val_loss: 1.4226 - val_accuracy: 0.5195\n",
      "Epoch 10/100\n",
      "8/8 [==============================] - 19s 2s/step - loss: 0.5460 - accuracy: 0.7308 - val_loss: 0.7853 - val_accuracy: 0.6250\n",
      "Epoch 11/100\n",
      "8/8 [==============================] - 20s 2s/step - loss: 0.4847 - accuracy: 0.7731 - val_loss: 0.9662 - val_accuracy: 0.5938\n",
      "Epoch 12/100\n",
      "8/8 [==============================] - 19s 2s/step - loss: 0.4788 - accuracy: 0.7631 - val_loss: 0.7969 - val_accuracy: 0.6562\n",
      "Epoch 13/100\n",
      "8/8 [==============================] - 22s 3s/step - loss: 0.4972 - accuracy: 0.7564 - val_loss: 1.0092 - val_accuracy: 0.6094\n",
      "Epoch 14/100\n",
      "8/8 [==============================] - 22s 3s/step - loss: 0.4918 - accuracy: 0.7664 - val_loss: 1.0080 - val_accuracy: 0.6133\n",
      "Epoch 15/100\n",
      "8/8 [==============================] - 19s 2s/step - loss: 0.4743 - accuracy: 0.7798 - val_loss: 0.9907 - val_accuracy: 0.6250\n",
      "Epoch 16/100\n",
      "8/8 [==============================] - 22s 3s/step - loss: 0.4135 - accuracy: 0.7942 - val_loss: 1.7370 - val_accuracy: 0.5391\n",
      "Epoch 17/100\n",
      "8/8 [==============================] - 19s 2s/step - loss: 0.4558 - accuracy: 0.7764 - val_loss: 1.1082 - val_accuracy: 0.6250\n",
      "Epoch 18/100\n",
      "8/8 [==============================] - 19s 2s/step - loss: 0.4894 - accuracy: 0.7976 - val_loss: 1.0322 - val_accuracy: 0.6445\n",
      "Epoch 19/100\n",
      "8/8 [==============================] - 19s 2s/step - loss: 0.4401 - accuracy: 0.7909 - val_loss: 1.2677 - val_accuracy: 0.6016\n",
      "Epoch 20/100\n",
      "8/8 [==============================] - 19s 2s/step - loss: 0.4320 - accuracy: 0.7976 - val_loss: 1.4081 - val_accuracy: 0.5898\n",
      "Epoch 21/100\n",
      "8/8 [==============================] - 19s 2s/step - loss: 0.3967 - accuracy: 0.8298 - val_loss: 1.4995 - val_accuracy: 0.5938\n",
      "Epoch 22/100\n",
      "8/8 [==============================] - 21s 3s/step - loss: 0.3781 - accuracy: 0.8330 - val_loss: 1.6337 - val_accuracy: 0.5781\n",
      "Epoch 23/100\n",
      "8/8 [==============================] - 21s 3s/step - loss: 0.3973 - accuracy: 0.8174 - val_loss: 1.0291 - val_accuracy: 0.6680\n",
      "Epoch 24/100\n",
      "8/8 [==============================] - 19s 2s/step - loss: 0.4043 - accuracy: 0.8154 - val_loss: 1.0166 - val_accuracy: 0.6758\n",
      "Epoch 25/100\n",
      "8/8 [==============================] - 19s 2s/step - loss: 0.3464 - accuracy: 0.8565 - val_loss: 0.8226 - val_accuracy: 0.7578\n",
      "Epoch 26/100\n",
      "8/8 [==============================] - 19s 2s/step - loss: 0.4188 - accuracy: 0.8120 - val_loss: 1.0045 - val_accuracy: 0.7070\n",
      "Epoch 27/100\n",
      "8/8 [==============================] - 19s 2s/step - loss: 0.4001 - accuracy: 0.8120 - val_loss: 1.1660 - val_accuracy: 0.6641\n",
      "Epoch 28/100\n",
      "8/8 [==============================] - 19s 2s/step - loss: 0.3674 - accuracy: 0.8276 - val_loss: 2.2454 - val_accuracy: 0.5625\n",
      "Epoch 29/100\n",
      "8/8 [==============================] - 21s 3s/step - loss: 0.3482 - accuracy: 0.8320 - val_loss: 1.2979 - val_accuracy: 0.6562\n",
      "Epoch 30/100\n",
      "8/8 [==============================] - 19s 2s/step - loss: 0.3492 - accuracy: 0.8409 - val_loss: 1.7483 - val_accuracy: 0.6094\n",
      "Epoch 31/100\n",
      "8/8 [==============================] - 22s 3s/step - loss: 0.3371 - accuracy: 0.8487 - val_loss: 1.6851 - val_accuracy: 0.6172\n",
      "Epoch 32/100\n",
      "8/8 [==============================] - 19s 2s/step - loss: 0.3995 - accuracy: 0.8487 - val_loss: 1.4679 - val_accuracy: 0.6172\n",
      "Epoch 33/100\n",
      "8/8 [==============================] - 19s 2s/step - loss: 0.3303 - accuracy: 0.8665 - val_loss: 1.8291 - val_accuracy: 0.5977\n",
      "Epoch 34/100\n",
      "8/8 [==============================] - 19s 2s/step - loss: 0.3028 - accuracy: 0.8754 - val_loss: 1.8583 - val_accuracy: 0.5898\n",
      "Epoch 35/100\n",
      "8/8 [==============================] - 19s 2s/step - loss: 0.3333 - accuracy: 0.8443 - val_loss: 1.7407 - val_accuracy: 0.6133\n",
      "Epoch 36/100\n",
      "8/8 [==============================] - 19s 2s/step - loss: 0.4460 - accuracy: 0.8276 - val_loss: 1.7112 - val_accuracy: 0.6133\n",
      "Epoch 37/100\n",
      "8/8 [==============================] - 19s 2s/step - loss: 0.2840 - accuracy: 0.8932 - val_loss: 1.5272 - val_accuracy: 0.6250\n",
      "Epoch 38/100\n",
      "8/8 [==============================] - 19s 2s/step - loss: 0.2692 - accuracy: 0.8910 - val_loss: 1.4028 - val_accuracy: 0.6719\n",
      "Epoch 39/100\n",
      "8/8 [==============================] - 19s 2s/step - loss: 0.3329 - accuracy: 0.8487 - val_loss: 1.9884 - val_accuracy: 0.5938\n",
      "Epoch 40/100\n",
      "8/8 [==============================] - 19s 2s/step - loss: 0.3194 - accuracy: 0.8665 - val_loss: 0.9686 - val_accuracy: 0.7109\n",
      "Epoch 41/100\n",
      "8/8 [==============================] - 19s 2s/step - loss: 0.2989 - accuracy: 0.8776 - val_loss: 1.0982 - val_accuracy: 0.7109\n",
      "Epoch 42/100\n",
      "8/8 [==============================] - 19s 2s/step - loss: 0.3068 - accuracy: 0.8610 - val_loss: 2.2698 - val_accuracy: 0.5820\n",
      "Epoch 43/100\n",
      "8/8 [==============================] - 19s 2s/step - loss: 0.3870 - accuracy: 0.8220 - val_loss: 1.5665 - val_accuracy: 0.6445\n",
      "Epoch 44/100\n",
      "8/8 [==============================] - 19s 2s/step - loss: 0.2455 - accuracy: 0.9010 - val_loss: 2.4977 - val_accuracy: 0.5352\n",
      "Epoch 45/100\n",
      "8/8 [==============================] - 19s 2s/step - loss: 0.2964 - accuracy: 0.8687 - val_loss: 1.3860 - val_accuracy: 0.6758\n",
      "Epoch 46/100\n",
      "8/8 [==============================] - 19s 2s/step - loss: 0.3228 - accuracy: 0.8476 - val_loss: 1.5569 - val_accuracy: 0.6562\n",
      "Epoch 47/100\n",
      "8/8 [==============================] - 19s 2s/step - loss: 0.2853 - accuracy: 0.8821 - val_loss: 1.4665 - val_accuracy: 0.6641\n",
      "Epoch 48/100\n",
      "8/8 [==============================] - 19s 2s/step - loss: 0.3088 - accuracy: 0.8654 - val_loss: 1.4107 - val_accuracy: 0.6562\n",
      "Epoch 49/100\n",
      "8/8 [==============================] - 19s 2s/step - loss: 0.2477 - accuracy: 0.8977 - val_loss: 1.7918 - val_accuracy: 0.6211\n",
      "Epoch 50/100\n",
      "8/8 [==============================] - 19s 2s/step - loss: 0.3058 - accuracy: 0.8788 - val_loss: 1.6911 - val_accuracy: 0.6484\n",
      "Epoch 51/100\n",
      "8/8 [==============================] - 21s 3s/step - loss: 0.2357 - accuracy: 0.8977 - val_loss: 2.1368 - val_accuracy: 0.6250\n",
      "Epoch 52/100\n",
      "8/8 [==============================] - 19s 2s/step - loss: 0.2376 - accuracy: 0.9021 - val_loss: 1.9982 - val_accuracy: 0.6211\n",
      "Epoch 53/100\n",
      "8/8 [==============================] - 19s 2s/step - loss: 0.2808 - accuracy: 0.8865 - val_loss: 2.1820 - val_accuracy: 0.6055\n",
      "Epoch 54/100\n",
      "8/8 [==============================] - 19s 2s/step - loss: 0.3109 - accuracy: 0.8687 - val_loss: 2.4508 - val_accuracy: 0.5703\n",
      "Epoch 55/100\n",
      "8/8 [==============================] - 19s 2s/step - loss: 0.2191 - accuracy: 0.9066 - val_loss: 2.0714 - val_accuracy: 0.6445\n",
      "Epoch 56/100\n",
      "8/8 [==============================] - 18s 2s/step - loss: 0.2271 - accuracy: 0.9032 - val_loss: 2.7162 - val_accuracy: 0.5703\n",
      "Epoch 57/100\n",
      "8/8 [==============================] - 19s 2s/step - loss: 0.2707 - accuracy: 0.8877 - val_loss: 1.5577 - val_accuracy: 0.6797\n",
      "Epoch 58/100\n",
      "8/8 [==============================] - 18s 2s/step - loss: 0.2085 - accuracy: 0.9132 - val_loss: 1.6652 - val_accuracy: 0.6758\n",
      "Epoch 59/100\n",
      "8/8 [==============================] - 19s 2s/step - loss: 0.2967 - accuracy: 0.8921 - val_loss: 1.8196 - val_accuracy: 0.6445\n",
      "Epoch 60/100\n",
      "8/8 [==============================] - 19s 2s/step - loss: 0.2258 - accuracy: 0.9099 - val_loss: 2.1519 - val_accuracy: 0.6406\n",
      "Epoch 61/100\n",
      "8/8 [==============================] - 19s 2s/step - loss: 0.2702 - accuracy: 0.8821 - val_loss: 2.1904 - val_accuracy: 0.6406\n",
      "Epoch 62/100\n",
      "8/8 [==============================] - 21s 3s/step - loss: 0.2057 - accuracy: 0.9277 - val_loss: 1.6181 - val_accuracy: 0.6758\n",
      "Epoch 63/100\n",
      "8/8 [==============================] - 18s 2s/step - loss: 0.1819 - accuracy: 0.9321 - val_loss: 2.1628 - val_accuracy: 0.6328\n",
      "Epoch 64/100\n",
      "8/8 [==============================] - 18s 2s/step - loss: 0.2487 - accuracy: 0.8810 - val_loss: 2.6709 - val_accuracy: 0.5898\n",
      "Epoch 65/100\n",
      "8/8 [==============================] - 19s 2s/step - loss: 0.2355 - accuracy: 0.8888 - val_loss: 2.0904 - val_accuracy: 0.6562\n",
      "Epoch 66/100\n",
      "8/8 [==============================] - 19s 2s/step - loss: 0.1842 - accuracy: 0.9344 - val_loss: 2.4971 - val_accuracy: 0.6289\n",
      "Epoch 67/100\n",
      "8/8 [==============================] - 18s 2s/step - loss: 0.2351 - accuracy: 0.8865 - val_loss: 1.7823 - val_accuracy: 0.6680\n",
      "Epoch 68/100\n",
      "8/8 [==============================] - 19s 2s/step - loss: 0.2110 - accuracy: 0.9121 - val_loss: 2.1673 - val_accuracy: 0.6289\n",
      "Epoch 69/100\n",
      "8/8 [==============================] - 19s 2s/step - loss: 0.2006 - accuracy: 0.9266 - val_loss: 3.8812 - val_accuracy: 0.5273\n",
      "Epoch 70/100\n",
      "8/8 [==============================] - 19s 2s/step - loss: 0.2804 - accuracy: 0.8732 - val_loss: 2.2746 - val_accuracy: 0.5938\n",
      "Epoch 71/100\n",
      "8/8 [==============================] - 19s 2s/step - loss: 0.2188 - accuracy: 0.9088 - val_loss: 1.6039 - val_accuracy: 0.7031\n",
      "Epoch 72/100\n",
      "8/8 [==============================] - 21s 3s/step - loss: 0.3412 - accuracy: 0.8721 - val_loss: 1.8159 - val_accuracy: 0.6523\n",
      "Epoch 73/100\n",
      "8/8 [==============================] - 19s 2s/step - loss: 0.1705 - accuracy: 0.9410 - val_loss: 1.9961 - val_accuracy: 0.6602\n",
      "Epoch 74/100\n",
      "8/8 [==============================] - 19s 2s/step - loss: 0.2098 - accuracy: 0.9210 - val_loss: 1.2517 - val_accuracy: 0.7148\n",
      "Epoch 75/100\n",
      "8/8 [==============================] - 21s 3s/step - loss: 0.1983 - accuracy: 0.9150 - val_loss: 1.2237 - val_accuracy: 0.7188\n",
      "Epoch 76/100\n",
      "8/8 [==============================] - 19s 2s/step - loss: 0.2089 - accuracy: 0.9232 - val_loss: 1.6303 - val_accuracy: 0.6797\n",
      "Epoch 77/100\n",
      "8/8 [==============================] - 19s 2s/step - loss: 0.1615 - accuracy: 0.9355 - val_loss: 0.5592 - val_accuracy: 0.8477\n",
      "Epoch 78/100\n",
      "8/8 [==============================] - 19s 2s/step - loss: 0.2895 - accuracy: 0.8988 - val_loss: 2.2252 - val_accuracy: 0.6523\n",
      "Epoch 79/100\n",
      "8/8 [==============================] - 19s 2s/step - loss: 0.2130 - accuracy: 0.9077 - val_loss: 2.1919 - val_accuracy: 0.6445\n",
      "Epoch 80/100\n",
      "8/8 [==============================] - 19s 2s/step - loss: 0.4340 - accuracy: 0.8954 - val_loss: 1.2773 - val_accuracy: 0.7227\n",
      "Epoch 81/100\n",
      "8/8 [==============================] - 19s 2s/step - loss: 0.1713 - accuracy: 0.9299 - val_loss: 2.4630 - val_accuracy: 0.6328\n",
      "Epoch 82/100\n",
      "8/8 [==============================] - 19s 2s/step - loss: 0.1701 - accuracy: 0.9399 - val_loss: 2.4128 - val_accuracy: 0.6484\n",
      "Epoch 83/100\n",
      "8/8 [==============================] - 22s 3s/step - loss: 0.1717 - accuracy: 0.9355 - val_loss: 3.2937 - val_accuracy: 0.5742\n",
      "Epoch 84/100\n",
      "8/8 [==============================] - 19s 2s/step - loss: 0.2148 - accuracy: 0.9088 - val_loss: 2.5551 - val_accuracy: 0.6328\n",
      "Epoch 85/100\n",
      "8/8 [==============================] - 22s 3s/step - loss: 0.1376 - accuracy: 0.9455 - val_loss: 1.5837 - val_accuracy: 0.7188\n",
      "Epoch 86/100\n",
      "8/8 [==============================] - 19s 2s/step - loss: 0.1852 - accuracy: 0.9177 - val_loss: 1.9457 - val_accuracy: 0.6797\n",
      "Epoch 87/100\n",
      "8/8 [==============================] - 19s 2s/step - loss: 0.1995 - accuracy: 0.9188 - val_loss: 2.1158 - val_accuracy: 0.6758\n",
      "Epoch 88/100\n",
      "8/8 [==============================] - 21s 3s/step - loss: 0.1805 - accuracy: 0.9287 - val_loss: 1.9325 - val_accuracy: 0.6758\n",
      "Epoch 89/100\n",
      "8/8 [==============================] - 21s 3s/step - loss: 0.2992 - accuracy: 0.9010 - val_loss: 2.8173 - val_accuracy: 0.6289\n",
      "Epoch 90/100\n",
      "8/8 [==============================] - 19s 2s/step - loss: 0.1999 - accuracy: 0.9255 - val_loss: 2.0696 - val_accuracy: 0.6445\n",
      "Epoch 91/100\n",
      "8/8 [==============================] - 19s 2s/step - loss: 0.1737 - accuracy: 0.9344 - val_loss: 1.7337 - val_accuracy: 0.6875\n",
      "Epoch 92/100\n",
      "8/8 [==============================] - 19s 2s/step - loss: 0.1601 - accuracy: 0.9355 - val_loss: 3.3982 - val_accuracy: 0.5742\n",
      "Epoch 93/100\n",
      "8/8 [==============================] - 19s 2s/step - loss: 0.1778 - accuracy: 0.9299 - val_loss: 4.2730 - val_accuracy: 0.5391\n",
      "Epoch 94/100\n",
      "8/8 [==============================] - 18s 2s/step - loss: 0.1880 - accuracy: 0.9232 - val_loss: 2.7979 - val_accuracy: 0.6328\n",
      "Epoch 95/100\n",
      "8/8 [==============================] - 19s 2s/step - loss: 0.1278 - accuracy: 0.9544 - val_loss: 3.3930 - val_accuracy: 0.5898\n",
      "Epoch 96/100\n",
      "8/8 [==============================] - 19s 2s/step - loss: 0.2032 - accuracy: 0.9221 - val_loss: 2.1780 - val_accuracy: 0.6641\n",
      "Epoch 97/100\n",
      "8/8 [==============================] - 19s 2s/step - loss: 0.2200 - accuracy: 0.9177 - val_loss: 2.9444 - val_accuracy: 0.5781\n",
      "Epoch 98/100\n",
      "8/8 [==============================] - 19s 2s/step - loss: 0.1368 - accuracy: 0.9544 - val_loss: 2.2229 - val_accuracy: 0.6602\n",
      "Epoch 99/100\n",
      "8/8 [==============================] - 18s 2s/step - loss: 0.2508 - accuracy: 0.9088 - val_loss: 2.1083 - val_accuracy: 0.6445\n",
      "Epoch 100/100\n",
      "8/8 [==============================] - 19s 2s/step - loss: 0.1397 - accuracy: 0.9544 - val_loss: 2.3183 - val_accuracy: 0.6523\n"
     ]
    }
   ],
   "source": [
    "history = model.fit(\n",
    "      train_generator,\n",
    "      steps_per_epoch=8,  \n",
    "      epochs=100,\n",
    "      verbose=1,\n",
    "      validation_data = validation_generator,\n",
    "      validation_steps=8)"
   ]
  },
  {
   "cell_type": "code",
   "execution_count": 7,
   "metadata": {
    "colab": {
     "base_uri": "https://localhost:8080/",
     "height": 545
    },
    "colab_type": "code",
    "id": "7zNPRWOVJdOH",
    "outputId": "c9f1b7c3-2830-4211-a800-29591788a6d4"
   },
   "outputs": [
    {
     "data": {
      "image/png": "[encoded data removed]",
      "text/plain": [
       "<Figure size 432x288 with 1 Axes>"
      ]
     },
     "metadata": {
      "needs_background": "light",
      "tags": []
     },
     "output_type": "display_data"
    },
    {
     "data": {
      "image/png": "[encoded data removed]",
      "text/plain": [
       "<Figure size 432x288 with 1 Axes>"
      ]
     },
     "metadata": {
      "needs_background": "light",
      "tags": []
     },
     "output_type": "display_data"
    }
   ],
   "source": [
    "import matplotlib.pyplot as plt\n",
    "acc = history.history['accuracy']\n",
    "val_acc = history.history['val_accuracy']\n",
    "loss = history.history['loss']\n",
    "val_loss = history.history['val_loss']\n",
    "\n",
    "epochs = range(len(acc))\n",
    "\n",
    "plt.plot(epochs, acc, 'r', label='Training accuracy')\n",
    "plt.plot(epochs, val_acc, 'b', label='Validation accuracy')\n",
    "plt.title('Training and validation accuracy')\n",
    "\n",
    "plt.figure()\n",
    "\n",
    "plt.plot(epochs, loss, 'r', label='Training Loss')\n",
    "plt.plot(epochs, val_loss, 'b', label='Validation Loss')\n",
    "plt.title('Training and validation loss')\n",
    "plt.legend()\n",
    "\n",
    "plt.show()"
   ]
  },
  {
   "cell_type": "code",
   "execution_count": null,
   "metadata": {
    "colab": {},
    "colab_type": "code",
    "id": "MTEzlPJ-hH00"
   },
   "outputs": [],
   "source": []
  }
 ],
 "metadata": {
  "accelerator": "GPU",
  "colab": {
   "collapsed_sections": [],
   "name": "Course 2 - Part 4 - Lesson 4 - Notebook.ipynb",
   "provenance": []
  },
  "kernelspec": {
   "display_name": "Python 3",
   "language": "python",
   "name": "python3"
  },
  "language_info": {
   "codemirror_mode": {
    "name": "ipython",
    "version": 3
   },
   "file_extension": ".py",
   "mimetype": "text/x-python",
   "name": "python",
   "nbconvert_exporter": "python",
   "pygments_lexer": "ipython3",
   "version": "3.7.7"
  }
 },
 "nbformat": 4,
 "nbformat_minor": 4
}
