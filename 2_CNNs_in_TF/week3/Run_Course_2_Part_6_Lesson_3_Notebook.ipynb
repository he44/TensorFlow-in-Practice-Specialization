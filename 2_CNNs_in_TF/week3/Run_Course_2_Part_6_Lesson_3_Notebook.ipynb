{
  "nbformat": 4,
  "nbformat_minor": 0,
  "metadata": {
    "accelerator": "GPU",
    "colab": {
      "name": "Course 2 - Part 6 - Lesson 3 - Notebook.ipynb",
      "provenance": [],
      "collapsed_sections": []
    },
    "kernelspec": {
      "display_name": "Python 3",
      "name": "python3"
    }
  },
  "cells": [
    {
      "cell_type": "markdown",
      "metadata": {
        "colab_type": "text",
        "id": "rX8mhOLljYeM"
      },
      "source": [
        "##### Copyright 2019 The TensorFlow Authors."
      ]
    },
    {
      "cell_type": "code",
      "metadata": {
        "cellView": "form",
        "colab_type": "code",
        "id": "BZSlp3DAjdYf",
        "colab": {}
      },
      "source": [
        "#@title Licensed under the Apache License, Version 2.0 (the \"License\");\n",
        "# you may not use this file except in compliance with the License.\n",
        "# You may obtain a copy of the License at\n",
        "#\n",
        "# https://www.apache.org/licenses/LICENSE-2.0\n",
        "#\n",
        "# Unless required by applicable law or agreed to in writing, software\n",
        "# distributed under the License is distributed on an \"AS IS\" BASIS,\n",
        "# WITHOUT WARRANTIES OR CONDITIONS OF ANY KIND, either express or implied.\n",
        "# See the License for the specific language governing permissions and\n",
        "# limitations under the License."
      ],
      "execution_count": null,
      "outputs": []
    },
    {
      "cell_type": "code",
      "metadata": {
        "colab_type": "code",
        "id": "1xJZ5glPPCRz",
        "colab": {
          "base_uri": "https://localhost:8080/",
          "height": 241
        },
        "outputId": "6599ad9b-d1c9-4fe8-9a50-95b6612842ac"
      },
      "source": [
        "import os\n",
        "\n",
        "from tensorflow.keras import layers\n",
        "from tensorflow.keras import Model\n",
        "!wget --no-check-certificate \\\n",
        "    https://storage.googleapis.com/mledu-datasets/inception_v3_weights_tf_dim_ordering_tf_kernels_notop.h5 \\\n",
        "    -O /tmp/inception_v3_weights_tf_dim_ordering_tf_kernels_notop.h5\n",
        "  \n",
        "from tensorflow.keras.applications.inception_v3 import InceptionV3\n",
        "\n",
        "local_weights_file = '/tmp/inception_v3_weights_tf_dim_ordering_tf_kernels_notop.h5'\n",
        "\n",
        "pre_trained_model = InceptionV3(input_shape = (150, 150, 3), \n",
        "                                include_top = False, \n",
        "                                weights = None)\n",
        "\n",
        "pre_trained_model.load_weights(local_weights_file)\n",
        "\n",
        "for layer in pre_trained_model.layers:\n",
        "  layer.trainable = False\n",
        "  \n",
        "# pre_trained_model.summary()\n",
        "\n",
        "last_layer = pre_trained_model.get_layer('mixed7')\n",
        "print('last layer output shape: ', last_layer.output_shape)\n",
        "last_output = last_layer.output"
      ],
      "execution_count": 1,
      "outputs": [
        {
          "output_type": "stream",
          "text": [
            "--2020-07-15 23:10:09--  https://storage.googleapis.com/mledu-datasets/inception_v3_weights_tf_dim_ordering_tf_kernels_notop.h5\n",
            "Resolving storage.googleapis.com (storage.googleapis.com)... 74.125.197.128, 74.125.142.128, 74.125.195.128, ...\n",
            "Connecting to storage.googleapis.com (storage.googleapis.com)|74.125.197.128|:443... connected.\n",
            "HTTP request sent, awaiting response... 200 OK\n",
            "Length: 87910968 (84M) [application/x-hdf]\n",
            "Saving to: ‘/tmp/inception_v3_weights_tf_dim_ordering_tf_kernels_notop.h5’\n",
            "\n",
            "/tmp/inception_v3_w 100%[===================>]  83.84M  48.6MB/s    in 1.7s    \n",
            "\n",
            "2020-07-15 23:10:11 (48.6 MB/s) - ‘/tmp/inception_v3_weights_tf_dim_ordering_tf_kernels_notop.h5’ saved [87910968/87910968]\n",
            "\n",
            "last layer output shape:  (None, 7, 7, 768)\n"
          ],
          "name": "stdout"
        }
      ]
    },
    {
      "cell_type": "code",
      "metadata": {
        "colab_type": "code",
        "id": "BMXb913pbvFg",
        "colab": {}
      },
      "source": [
        "from tensorflow.keras.optimizers import RMSprop\n",
        "\n",
        "# Flatten the output layer to 1 dimension\n",
        "x = layers.Flatten()(last_output)\n",
        "# Add a fully connected layer with 1,024 hidden units and ReLU activation\n",
        "x = layers.Dense(1024, activation='relu')(x)\n",
        "# Add a dropout rate of 0.2\n",
        "# x = layers.Dropout(0.2)(x)                  \n",
        "# Add a final sigmoid layer for classification\n",
        "x = layers.Dense  (1, activation='sigmoid')(x)           \n",
        "\n",
        "model = Model( pre_trained_model.input, x) \n",
        "\n",
        "model.compile(optimizer = RMSprop(lr=0.0001), \n",
        "              loss = 'binary_crossentropy', \n",
        "              metrics = ['accuracy'])\n"
      ],
      "execution_count": 3,
      "outputs": []
    },
    {
      "cell_type": "code",
      "metadata": {
        "colab_type": "code",
        "id": "O4s8HckqGlnb",
        "colab": {
          "base_uri": "https://localhost:8080/",
          "height": 258
        },
        "outputId": "e982888b-d2ce-4851-ee42-845a46f1db04"
      },
      "source": [
        "!wget --no-check-certificate \\\n",
        "        https://storage.googleapis.com/mledu-datasets/cats_and_dogs_filtered.zip \\\n",
        "       -O /tmp/cats_and_dogs_filtered.zip\n",
        "\n",
        "from tensorflow.keras.preprocessing.image import ImageDataGenerator\n",
        "\n",
        "import os\n",
        "import zipfile\n",
        "\n",
        "local_zip = '//tmp/cats_and_dogs_filtered.zip'\n",
        "\n",
        "zip_ref = zipfile.ZipFile(local_zip, 'r')\n",
        "\n",
        "zip_ref.extractall('/tmp')\n",
        "zip_ref.close()\n",
        "\n",
        "# Define our example directories and files\n",
        "base_dir = '/tmp/cats_and_dogs_filtered'\n",
        "\n",
        "train_dir = os.path.join( base_dir, 'train')\n",
        "validation_dir = os.path.join( base_dir, 'validation')\n",
        "\n",
        "\n",
        "train_cats_dir = os.path.join(train_dir, 'cats') # Directory with our training cat pictures\n",
        "train_dogs_dir = os.path.join(train_dir, 'dogs') # Directory with our training dog pictures\n",
        "validation_cats_dir = os.path.join(validation_dir, 'cats') # Directory with our validation cat pictures\n",
        "validation_dogs_dir = os.path.join(validation_dir, 'dogs')# Directory with our validation dog pictures\n",
        "\n",
        "train_cat_fnames = os.listdir(train_cats_dir)\n",
        "train_dog_fnames = os.listdir(train_dogs_dir)\n",
        "\n",
        "# Add our data-augmentation parameters to ImageDataGenerator\n",
        "train_datagen = ImageDataGenerator(rescale = 1./255.,\n",
        "                                   rotation_range = 40,\n",
        "                                   width_shift_range = 0.2,\n",
        "                                   height_shift_range = 0.2,\n",
        "                                   shear_range = 0.2,\n",
        "                                   zoom_range = 0.2,\n",
        "                                   horizontal_flip = True)\n",
        "\n",
        "# Note that the validation data should not be augmented!\n",
        "test_datagen = ImageDataGenerator( rescale = 1.0/255. )\n",
        "\n",
        "# Flow training images in batches of 20 using train_datagen generator\n",
        "train_generator = train_datagen.flow_from_directory(train_dir,\n",
        "                                                    batch_size = 20,\n",
        "                                                    class_mode = 'binary', \n",
        "                                                    target_size = (150, 150))     \n",
        "\n",
        "# Flow validation images in batches of 20 using test_datagen generator\n",
        "validation_generator =  test_datagen.flow_from_directory( validation_dir,\n",
        "                                                          batch_size  = 20,\n",
        "                                                          class_mode  = 'binary', \n",
        "                                                          target_size = (150, 150))"
      ],
      "execution_count": 4,
      "outputs": [
        {
          "output_type": "stream",
          "text": [
            "--2020-07-15 23:11:29--  https://storage.googleapis.com/mledu-datasets/cats_and_dogs_filtered.zip\n",
            "Resolving storage.googleapis.com (storage.googleapis.com)... 108.177.98.128, 74.125.197.128, 74.125.142.128, ...\n",
            "Connecting to storage.googleapis.com (storage.googleapis.com)|108.177.98.128|:443... connected.\n",
            "HTTP request sent, awaiting response... 200 OK\n",
            "Length: 68606236 (65M) [application/zip]\n",
            "Saving to: ‘/tmp/cats_and_dogs_filtered.zip’\n",
            "\n",
            "/tmp/cats_and_dogs_ 100%[===================>]  65.43M   169MB/s    in 0.4s    \n",
            "\n",
            "2020-07-15 23:11:30 (169 MB/s) - ‘/tmp/cats_and_dogs_filtered.zip’ saved [68606236/68606236]\n",
            "\n",
            "Found 2000 images belonging to 2 classes.\n",
            "Found 1000 images belonging to 2 classes.\n"
          ],
          "name": "stdout"
        }
      ]
    },
    {
      "cell_type": "code",
      "metadata": {
        "colab_type": "code",
        "id": "Blhq2MAUeyGA",
        "colab": {
          "base_uri": "https://localhost:8080/",
          "height": 1000
        },
        "outputId": "60f56e87-8632-4889-d5f3-8c7b5cf55d6e"
      },
      "source": [
        "history = model.fit(\n",
        "            train_generator,\n",
        "            validation_data = validation_generator,\n",
        "            steps_per_epoch = 100,\n",
        "            epochs = 50,\n",
        "            validation_steps = 50,\n",
        "            verbose = 2)"
      ],
      "execution_count": 7,
      "outputs": [
        {
          "output_type": "stream",
          "text": [
            "Epoch 1/50\n",
            "100/100 - 18s - loss: 0.0802 - accuracy: 0.9770 - val_loss: 0.2005 - val_accuracy: 0.9590\n",
            "Epoch 2/50\n",
            "100/100 - 18s - loss: 0.0655 - accuracy: 0.9795 - val_loss: 0.1571 - val_accuracy: 0.9650\n",
            "Epoch 3/50\n",
            "100/100 - 18s - loss: 0.0503 - accuracy: 0.9805 - val_loss: 0.1743 - val_accuracy: 0.9690\n",
            "Epoch 4/50\n",
            "100/100 - 18s - loss: 0.0540 - accuracy: 0.9795 - val_loss: 0.2640 - val_accuracy: 0.9490\n",
            "Epoch 5/50\n",
            "100/100 - 18s - loss: 0.0856 - accuracy: 0.9755 - val_loss: 0.1465 - val_accuracy: 0.9670\n",
            "Epoch 6/50\n",
            "100/100 - 18s - loss: 0.0672 - accuracy: 0.9830 - val_loss: 0.2126 - val_accuracy: 0.9570\n",
            "Epoch 7/50\n",
            "100/100 - 18s - loss: 0.0713 - accuracy: 0.9735 - val_loss: 0.1408 - val_accuracy: 0.9680\n",
            "Epoch 8/50\n",
            "100/100 - 18s - loss: 0.0756 - accuracy: 0.9795 - val_loss: 0.1868 - val_accuracy: 0.9630\n",
            "Epoch 9/50\n",
            "100/100 - 18s - loss: 0.0776 - accuracy: 0.9730 - val_loss: 0.2019 - val_accuracy: 0.9580\n",
            "Epoch 10/50\n",
            "100/100 - 18s - loss: 0.0747 - accuracy: 0.9765 - val_loss: 0.1514 - val_accuracy: 0.9680\n",
            "Epoch 11/50\n",
            "100/100 - 18s - loss: 0.0557 - accuracy: 0.9800 - val_loss: 0.1673 - val_accuracy: 0.9670\n",
            "Epoch 12/50\n",
            "100/100 - 18s - loss: 0.0783 - accuracy: 0.9760 - val_loss: 0.1678 - val_accuracy: 0.9680\n",
            "Epoch 13/50\n",
            "100/100 - 18s - loss: 0.0773 - accuracy: 0.9765 - val_loss: 0.1509 - val_accuracy: 0.9690\n",
            "Epoch 14/50\n",
            "100/100 - 18s - loss: 0.0635 - accuracy: 0.9805 - val_loss: 0.1723 - val_accuracy: 0.9650\n",
            "Epoch 15/50\n",
            "100/100 - 18s - loss: 0.0628 - accuracy: 0.9785 - val_loss: 0.1660 - val_accuracy: 0.9690\n",
            "Epoch 16/50\n",
            "100/100 - 18s - loss: 0.0782 - accuracy: 0.9755 - val_loss: 0.1526 - val_accuracy: 0.9670\n",
            "Epoch 17/50\n",
            "100/100 - 18s - loss: 0.0561 - accuracy: 0.9810 - val_loss: 0.1407 - val_accuracy: 0.9720\n",
            "Epoch 18/50\n",
            "100/100 - 18s - loss: 0.0833 - accuracy: 0.9755 - val_loss: 0.1232 - val_accuracy: 0.9720\n",
            "Epoch 19/50\n",
            "100/100 - 18s - loss: 0.0575 - accuracy: 0.9850 - val_loss: 0.1308 - val_accuracy: 0.9770\n",
            "Epoch 20/50\n",
            "100/100 - 18s - loss: 0.0467 - accuracy: 0.9845 - val_loss: 0.1499 - val_accuracy: 0.9710\n",
            "Epoch 21/50\n",
            "100/100 - 18s - loss: 0.0421 - accuracy: 0.9860 - val_loss: 0.1729 - val_accuracy: 0.9700\n",
            "Epoch 22/50\n",
            "100/100 - 18s - loss: 0.0667 - accuracy: 0.9800 - val_loss: 0.1605 - val_accuracy: 0.9710\n",
            "Epoch 23/50\n",
            "100/100 - 18s - loss: 0.0447 - accuracy: 0.9875 - val_loss: 0.1432 - val_accuracy: 0.9710\n",
            "Epoch 24/50\n",
            "100/100 - 18s - loss: 0.0441 - accuracy: 0.9870 - val_loss: 0.1678 - val_accuracy: 0.9720\n",
            "Epoch 25/50\n",
            "100/100 - 18s - loss: 0.0544 - accuracy: 0.9835 - val_loss: 0.1451 - val_accuracy: 0.9730\n",
            "Epoch 26/50\n",
            "100/100 - 18s - loss: 0.0468 - accuracy: 0.9860 - val_loss: 0.1911 - val_accuracy: 0.9670\n",
            "Epoch 27/50\n",
            "100/100 - 18s - loss: 0.0575 - accuracy: 0.9785 - val_loss: 0.1770 - val_accuracy: 0.9670\n",
            "Epoch 28/50\n",
            "100/100 - 18s - loss: 0.0333 - accuracy: 0.9885 - val_loss: 0.1794 - val_accuracy: 0.9680\n",
            "Epoch 29/50\n",
            "100/100 - 18s - loss: 0.0483 - accuracy: 0.9830 - val_loss: 0.1944 - val_accuracy: 0.9650\n",
            "Epoch 30/50\n",
            "100/100 - 18s - loss: 0.0597 - accuracy: 0.9820 - val_loss: 0.1814 - val_accuracy: 0.9620\n",
            "Epoch 31/50\n",
            "100/100 - 18s - loss: 0.0420 - accuracy: 0.9870 - val_loss: 0.1897 - val_accuracy: 0.9610\n",
            "Epoch 32/50\n",
            "100/100 - 18s - loss: 0.0522 - accuracy: 0.9845 - val_loss: 0.1492 - val_accuracy: 0.9710\n",
            "Epoch 33/50\n",
            "100/100 - 18s - loss: 0.0451 - accuracy: 0.9855 - val_loss: 0.1505 - val_accuracy: 0.9730\n",
            "Epoch 34/50\n",
            "100/100 - 18s - loss: 0.0421 - accuracy: 0.9865 - val_loss: 0.1775 - val_accuracy: 0.9680\n",
            "Epoch 35/50\n",
            "100/100 - 19s - loss: 0.0632 - accuracy: 0.9840 - val_loss: 0.1509 - val_accuracy: 0.9700\n",
            "Epoch 36/50\n",
            "100/100 - 18s - loss: 0.0288 - accuracy: 0.9875 - val_loss: 0.1500 - val_accuracy: 0.9680\n",
            "Epoch 37/50\n",
            "100/100 - 18s - loss: 0.0556 - accuracy: 0.9855 - val_loss: 0.1348 - val_accuracy: 0.9710\n",
            "Epoch 38/50\n",
            "100/100 - 18s - loss: 0.0489 - accuracy: 0.9860 - val_loss: 0.1337 - val_accuracy: 0.9700\n",
            "Epoch 39/50\n",
            "100/100 - 18s - loss: 0.0514 - accuracy: 0.9855 - val_loss: 0.1641 - val_accuracy: 0.9690\n",
            "Epoch 40/50\n",
            "100/100 - 18s - loss: 0.0516 - accuracy: 0.9835 - val_loss: 0.1635 - val_accuracy: 0.9680\n",
            "Epoch 41/50\n",
            "100/100 - 18s - loss: 0.0770 - accuracy: 0.9775 - val_loss: 0.1593 - val_accuracy: 0.9640\n",
            "Epoch 42/50\n",
            "100/100 - 18s - loss: 0.0493 - accuracy: 0.9850 - val_loss: 0.1569 - val_accuracy: 0.9680\n",
            "Epoch 43/50\n",
            "100/100 - 18s - loss: 0.0384 - accuracy: 0.9860 - val_loss: 0.1773 - val_accuracy: 0.9660\n",
            "Epoch 44/50\n",
            "100/100 - 18s - loss: 0.0489 - accuracy: 0.9840 - val_loss: 0.1500 - val_accuracy: 0.9700\n",
            "Epoch 45/50\n",
            "100/100 - 18s - loss: 0.0440 - accuracy: 0.9865 - val_loss: 0.1814 - val_accuracy: 0.9650\n",
            "Epoch 46/50\n",
            "100/100 - 18s - loss: 0.0514 - accuracy: 0.9860 - val_loss: 0.1599 - val_accuracy: 0.9710\n",
            "Epoch 47/50\n",
            "100/100 - 18s - loss: 0.0516 - accuracy: 0.9825 - val_loss: 0.1456 - val_accuracy: 0.9720\n",
            "Epoch 48/50\n",
            "100/100 - 18s - loss: 0.0602 - accuracy: 0.9775 - val_loss: 0.1477 - val_accuracy: 0.9700\n",
            "Epoch 49/50\n",
            "100/100 - 18s - loss: 0.0366 - accuracy: 0.9890 - val_loss: 0.1631 - val_accuracy: 0.9660\n",
            "Epoch 50/50\n",
            "100/100 - 18s - loss: 0.0333 - accuracy: 0.9900 - val_loss: 0.1683 - val_accuracy: 0.9660\n"
          ],
          "name": "stdout"
        }
      ]
    },
    {
      "cell_type": "code",
      "metadata": {
        "colab_type": "code",
        "id": "C2Fp6Se9rKuL",
        "colab": {
          "base_uri": "https://localhost:8080/",
          "height": 298
        },
        "outputId": "53106cde-d96a-48c1-ad10-270328252418"
      },
      "source": [
        "import matplotlib.pyplot as plt\n",
        "acc = history.history['accuracy']\n",
        "val_acc = history.history['val_accuracy']\n",
        "loss = history.history['loss']\n",
        "val_loss = history.history['val_loss']\n",
        "\n",
        "epochs = range(len(acc))\n",
        "\n",
        "plt.plot(epochs, acc, 'r', label='Training accuracy')\n",
        "plt.plot(epochs, val_acc, 'b', label='Validation accuracy')\n",
        "plt.title('Training and validation accuracy')\n",
        "plt.legend(loc=0)\n",
        "plt.figure()\n",
        "\n",
        "\n",
        "plt.show()"
      ],
      "execution_count": 8,
      "outputs": [
        {
          "output_type": "display_data",
          "data": {
            "image/png": "[encoded data removed]",
            "text/plain": [
              "<Figure size 432x288 with 1 Axes>"
            ]
          },
          "metadata": {
            "tags": [],
            "needs_background": "light"
          }
        },
        {
          "output_type": "display_data",
          "data": {
            "text/plain": [
              "<Figure size 432x288 with 0 Axes>"
            ]
          },
          "metadata": {
            "tags": []
          }
        }
      ]
    },
    {
      "cell_type": "code",
      "metadata": {
        "id": "9rcLQH_3pLMR",
        "colab_type": "code",
        "colab": {}
      },
      "source": [
        ""
      ],
      "execution_count": null,
      "outputs": []
    }
  ]
}