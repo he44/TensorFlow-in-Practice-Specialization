{
  "nbformat": 4,
  "nbformat_minor": 0,
  "metadata": {
    "accelerator": "GPU",
    "colab": {
      "name": "Course 3 - Week 3 - Lesson 2.ipynb",
      "provenance": [],
      "collapsed_sections": []
    },
    "kernelspec": {
      "display_name": "Python 3",
      "language": "python",
      "name": "python3"
    },
    "language_info": {
      "codemirror_mode": {
        "name": "ipython",
        "version": 3
      },
      "file_extension": ".py",
      "mimetype": "text/x-python",
      "name": "python",
      "nbconvert_exporter": "python",
      "pygments_lexer": "ipython3",
      "version": "3.7.6"
    }
  },
  "cells": [
    {
      "cell_type": "code",
      "metadata": {
        "colab_type": "code",
        "id": "zX4Kg8DUTKWO",
        "colab": {}
      },
      "source": [
        "#@title Licensed under the Apache License, Version 2.0 (the \"License\");\n",
        "# you may not use this file except in compliance with the License.\n",
        "# You may obtain a copy of the License at\n",
        "#\n",
        "# https://www.apache.org/licenses/LICENSE-2.0\n",
        "#\n",
        "# Unless required by applicable law or agreed to in writing, software\n",
        "# distributed under the License is distributed on an \"AS IS\" BASIS,\n",
        "# WITHOUT WARRANTIES OR CONDITIONS OF ANY KIND, either express or implied.\n",
        "# See the License for the specific language governing permissions and\n",
        "# limitations under the License."
      ],
      "execution_count": 1,
      "outputs": []
    },
    {
      "cell_type": "markdown",
      "metadata": {
        "id": "NbrUlSCumlAX",
        "colab_type": "text"
      },
      "source": [
        "<a href=\"https://colab.research.google.com/github/lmoroney/dlaicourse/blob/master/TensorFlow%20In%20Practice/Course%203%20-%20NLP/Course%203%20-%20Week%203%20-%20Lesson%202.ipynb\" target=\"_parent\"><img src=\"https://colab.research.google.com/assets/colab-badge.svg\" alt=\"Open In Colab\"/></a>"
      ]
    },
    {
      "cell_type": "code",
      "metadata": {
        "colab_type": "code",
        "id": "jGwXGIXvFhXW",
        "colab": {
          "base_uri": "https://localhost:8080/",
          "height": 1000
        },
        "outputId": "8c3b0d92-4b88-44c9-c489-b6e888c84998"
      },
      "source": [
        "import numpy as np\n",
        "\n",
        "import json\n",
        "import tensorflow as tf\n",
        "\n",
        "from tensorflow.keras.preprocessing.text import Tokenizer\n",
        "from tensorflow.keras.preprocessing.sequence import pad_sequences\n",
        "\n",
        "!wget --no-check-certificate \\\n",
        "    https://storage.googleapis.com/laurencemoroney-blog.appspot.com/sarcasm.json \\\n",
        "    -O /tmp/sarcasm.json\n",
        "\n",
        "vocab_size = 1000\n",
        "embedding_dim = 16\n",
        "max_length = 120\n",
        "trunc_type='post'\n",
        "padding_type='post'\n",
        "oov_tok = \"<OOV>\"\n",
        "training_size = 20000\n",
        "\n",
        "\n",
        "with open(\"/tmp/sarcasm.json\", 'r') as f:\n",
        "    datastore = json.load(f)\n",
        "\n",
        "\n",
        "sentences = []\n",
        "labels = []\n",
        "urls = []\n",
        "for item in datastore:\n",
        "    sentences.append(item['headline'])\n",
        "    labels.append(item['is_sarcastic'])\n",
        "\n",
        "training_sentences = sentences[0:training_size]\n",
        "testing_sentences = sentences[training_size:]\n",
        "training_labels = labels[0:training_size]\n",
        "testing_labels = labels[training_size:]\n",
        "\n",
        "tokenizer = Tokenizer(num_words=vocab_size, oov_token=oov_tok)\n",
        "tokenizer.fit_on_texts(training_sentences)\n",
        "\n",
        "word_index = tokenizer.word_index\n",
        "\n",
        "training_sequences = tokenizer.texts_to_sequences(training_sentences)\n",
        "training_padded = pad_sequences(training_sequences, maxlen=max_length, padding=padding_type, truncating=trunc_type)\n",
        "\n",
        "testing_sequences = tokenizer.texts_to_sequences(testing_sentences)\n",
        "testing_padded = pad_sequences(testing_sequences, maxlen=max_length, padding=padding_type, truncating=trunc_type)\n",
        "\n",
        "model = tf.keras.Sequential([\n",
        "    tf.keras.layers.Embedding(vocab_size, embedding_dim, input_length=max_length),\n",
        "    tf.keras.layers.Bidirectional(tf.keras.layers.LSTM(32)),\n",
        "    tf.keras.layers.Dense(24, activation='relu'),\n",
        "    tf.keras.layers.Dense(1, activation='sigmoid')\n",
        "])\n",
        "model.compile(loss='binary_crossentropy',optimizer='adam',metrics=['accuracy'])\n",
        "model.summary()\n",
        "\n",
        "num_epochs = 50\n",
        "training_padded = np.array(training_padded)\n",
        "training_labels = np.array(training_labels)\n",
        "testing_padded = np.array(testing_padded)\n",
        "testing_labels = np.array(testing_labels)\n",
        "history = model.fit(training_padded, training_labels, epochs=num_epochs, validation_data=(testing_padded, testing_labels), verbose=1)\n"
      ],
      "execution_count": 2,
      "outputs": [
        {
          "output_type": "stream",
          "text": [
            "--2020-08-09 19:16:53--  https://storage.googleapis.com/laurencemoroney-blog.appspot.com/sarcasm.json\n",
            "Resolving storage.googleapis.com (storage.googleapis.com)... 108.177.119.128, 108.177.126.128, 108.177.127.128, ...\n",
            "Connecting to storage.googleapis.com (storage.googleapis.com)|108.177.119.128|:443... connected.\n",
            "HTTP request sent, awaiting response... 200 OK\n",
            "Length: 5643545 (5.4M) [application/json]\n",
            "Saving to: ‘/tmp/sarcasm.json’\n",
            "\n",
            "\r/tmp/sarcasm.json     0%[                    ]       0  --.-KB/s               \r/tmp/sarcasm.json   100%[===================>]   5.38M  --.-KB/s    in 0.03s   \n",
            "\n",
            "2020-08-09 19:16:54 (195 MB/s) - ‘/tmp/sarcasm.json’ saved [5643545/5643545]\n",
            "\n",
            "Model: \"sequential\"\n",
            "_________________________________________________________________\n",
            "Layer (type)                 Output Shape              Param #   \n",
            "=================================================================\n",
            "embedding (Embedding)        (None, 120, 16)           16000     \n",
            "_________________________________________________________________\n",
            "bidirectional (Bidirectional (None, 64)                12544     \n",
            "_________________________________________________________________\n",
            "dense (Dense)                (None, 24)                1560      \n",
            "_________________________________________________________________\n",
            "dense_1 (Dense)              (None, 1)                 25        \n",
            "=================================================================\n",
            "Total params: 30,129\n",
            "Trainable params: 30,129\n",
            "Non-trainable params: 0\n",
            "_________________________________________________________________\n",
            "Epoch 1/50\n",
            "625/625 [==============================] - 8s 13ms/step - loss: 0.4486 - accuracy: 0.7718 - val_loss: 0.3935 - val_accuracy: 0.8165\n",
            "Epoch 2/50\n",
            "625/625 [==============================] - 8s 12ms/step - loss: 0.3540 - accuracy: 0.8355 - val_loss: 0.3721 - val_accuracy: 0.8307\n",
            "Epoch 3/50\n",
            "625/625 [==============================] - 8s 13ms/step - loss: 0.3264 - accuracy: 0.8523 - val_loss: 0.3868 - val_accuracy: 0.8196\n",
            "Epoch 4/50\n",
            "625/625 [==============================] - 8s 13ms/step - loss: 0.3108 - accuracy: 0.8602 - val_loss: 0.3728 - val_accuracy: 0.8328\n",
            "Epoch 5/50\n",
            "625/625 [==============================] - 8s 13ms/step - loss: 0.2996 - accuracy: 0.8675 - val_loss: 0.3803 - val_accuracy: 0.8304\n",
            "Epoch 6/50\n",
            "625/625 [==============================] - 8s 13ms/step - loss: 0.2907 - accuracy: 0.8712 - val_loss: 0.3747 - val_accuracy: 0.8323\n",
            "Epoch 7/50\n",
            "625/625 [==============================] - 8s 13ms/step - loss: 0.2829 - accuracy: 0.8767 - val_loss: 0.3822 - val_accuracy: 0.8323\n",
            "Epoch 8/50\n",
            "625/625 [==============================] - 8s 13ms/step - loss: 0.2726 - accuracy: 0.8818 - val_loss: 0.4114 - val_accuracy: 0.8223\n",
            "Epoch 9/50\n",
            "625/625 [==============================] - 8s 13ms/step - loss: 0.2657 - accuracy: 0.8852 - val_loss: 0.4066 - val_accuracy: 0.8275\n",
            "Epoch 10/50\n",
            "625/625 [==============================] - 8s 13ms/step - loss: 0.2589 - accuracy: 0.8884 - val_loss: 0.4037 - val_accuracy: 0.8267\n",
            "Epoch 11/50\n",
            "625/625 [==============================] - 8s 13ms/step - loss: 0.2487 - accuracy: 0.8927 - val_loss: 0.4133 - val_accuracy: 0.8246\n",
            "Epoch 12/50\n",
            "625/625 [==============================] - 8s 13ms/step - loss: 0.2437 - accuracy: 0.8964 - val_loss: 0.4190 - val_accuracy: 0.8234\n",
            "Epoch 13/50\n",
            "625/625 [==============================] - 8s 13ms/step - loss: 0.2341 - accuracy: 0.9007 - val_loss: 0.4689 - val_accuracy: 0.8219\n",
            "Epoch 14/50\n",
            "625/625 [==============================] - 8s 13ms/step - loss: 0.2288 - accuracy: 0.9035 - val_loss: 0.4725 - val_accuracy: 0.8229\n",
            "Epoch 15/50\n",
            "625/625 [==============================] - 8s 13ms/step - loss: 0.2203 - accuracy: 0.9056 - val_loss: 0.4769 - val_accuracy: 0.8220\n",
            "Epoch 16/50\n",
            "625/625 [==============================] - 8s 13ms/step - loss: 0.2113 - accuracy: 0.9128 - val_loss: 0.4781 - val_accuracy: 0.8195\n",
            "Epoch 17/50\n",
            "625/625 [==============================] - 8s 13ms/step - loss: 0.2060 - accuracy: 0.9153 - val_loss: 0.4923 - val_accuracy: 0.8170\n",
            "Epoch 18/50\n",
            "625/625 [==============================] - 8s 13ms/step - loss: 0.1986 - accuracy: 0.9181 - val_loss: 0.5002 - val_accuracy: 0.8195\n",
            "Epoch 19/50\n",
            "625/625 [==============================] - 8s 13ms/step - loss: 0.1949 - accuracy: 0.9192 - val_loss: 0.5434 - val_accuracy: 0.8228\n",
            "Epoch 20/50\n",
            "625/625 [==============================] - 8s 13ms/step - loss: 0.1874 - accuracy: 0.9215 - val_loss: 0.5730 - val_accuracy: 0.8174\n",
            "Epoch 21/50\n",
            "625/625 [==============================] - 8s 13ms/step - loss: 0.1816 - accuracy: 0.9255 - val_loss: 0.5618 - val_accuracy: 0.8158\n",
            "Epoch 22/50\n",
            "625/625 [==============================] - 8s 13ms/step - loss: 0.1768 - accuracy: 0.9277 - val_loss: 0.6354 - val_accuracy: 0.8143\n",
            "Epoch 23/50\n",
            "625/625 [==============================] - 8s 13ms/step - loss: 0.1694 - accuracy: 0.9307 - val_loss: 0.6741 - val_accuracy: 0.8041\n",
            "Epoch 24/50\n",
            "625/625 [==============================] - 8s 13ms/step - loss: 0.1610 - accuracy: 0.9336 - val_loss: 0.7409 - val_accuracy: 0.8114\n",
            "Epoch 25/50\n",
            "625/625 [==============================] - 8s 13ms/step - loss: 0.1558 - accuracy: 0.9359 - val_loss: 0.7266 - val_accuracy: 0.8074\n",
            "Epoch 26/50\n",
            "625/625 [==============================] - 8s 13ms/step - loss: 0.1509 - accuracy: 0.9388 - val_loss: 0.7803 - val_accuracy: 0.8047\n",
            "Epoch 27/50\n",
            "625/625 [==============================] - 8s 13ms/step - loss: 0.1475 - accuracy: 0.9401 - val_loss: 0.8663 - val_accuracy: 0.8055\n",
            "Epoch 28/50\n",
            "625/625 [==============================] - 8s 13ms/step - loss: 0.1371 - accuracy: 0.9423 - val_loss: 0.8708 - val_accuracy: 0.8058\n",
            "Epoch 29/50\n",
            "625/625 [==============================] - 8s 13ms/step - loss: 0.1347 - accuracy: 0.9431 - val_loss: 0.8756 - val_accuracy: 0.8070\n",
            "Epoch 30/50\n",
            "625/625 [==============================] - 8s 13ms/step - loss: 0.1290 - accuracy: 0.9451 - val_loss: 1.0100 - val_accuracy: 0.8019\n",
            "Epoch 31/50\n",
            "625/625 [==============================] - 8s 13ms/step - loss: 0.1242 - accuracy: 0.9482 - val_loss: 0.9897 - val_accuracy: 0.8079\n",
            "Epoch 32/50\n",
            "625/625 [==============================] - 8s 13ms/step - loss: 0.1175 - accuracy: 0.9507 - val_loss: 1.0108 - val_accuracy: 0.8025\n",
            "Epoch 33/50\n",
            "625/625 [==============================] - 8s 13ms/step - loss: 0.1160 - accuracy: 0.9504 - val_loss: 1.0487 - val_accuracy: 0.8027\n",
            "Epoch 34/50\n",
            "625/625 [==============================] - 8s 13ms/step - loss: 0.1158 - accuracy: 0.9506 - val_loss: 1.0701 - val_accuracy: 0.8012\n",
            "Epoch 35/50\n",
            "625/625 [==============================] - 8s 13ms/step - loss: 0.1065 - accuracy: 0.9532 - val_loss: 1.1160 - val_accuracy: 0.8053\n",
            "Epoch 36/50\n",
            "625/625 [==============================] - 8s 13ms/step - loss: 0.1037 - accuracy: 0.9559 - val_loss: 1.1183 - val_accuracy: 0.8059\n",
            "Epoch 37/50\n",
            "625/625 [==============================] - 8s 13ms/step - loss: 0.0955 - accuracy: 0.9575 - val_loss: 1.2104 - val_accuracy: 0.8016\n",
            "Epoch 38/50\n",
            "625/625 [==============================] - 8s 13ms/step - loss: 0.0948 - accuracy: 0.9589 - val_loss: 1.3005 - val_accuracy: 0.8034\n",
            "Epoch 39/50\n",
            "625/625 [==============================] - 8s 13ms/step - loss: 0.0919 - accuracy: 0.9603 - val_loss: 1.3480 - val_accuracy: 0.8028\n",
            "Epoch 40/50\n",
            "625/625 [==============================] - 8s 12ms/step - loss: 0.0909 - accuracy: 0.9598 - val_loss: 1.5045 - val_accuracy: 0.7953\n",
            "Epoch 41/50\n",
            "625/625 [==============================] - 8s 13ms/step - loss: 0.0853 - accuracy: 0.9611 - val_loss: 1.3813 - val_accuracy: 0.7988\n",
            "Epoch 42/50\n",
            "625/625 [==============================] - 8s 13ms/step - loss: 0.0882 - accuracy: 0.9617 - val_loss: 1.4365 - val_accuracy: 0.7973\n",
            "Epoch 43/50\n",
            "625/625 [==============================] - 8s 13ms/step - loss: 0.0829 - accuracy: 0.9630 - val_loss: 1.3606 - val_accuracy: 0.7971\n",
            "Epoch 44/50\n",
            "625/625 [==============================] - 8s 13ms/step - loss: 0.0746 - accuracy: 0.9657 - val_loss: 1.6094 - val_accuracy: 0.7983\n",
            "Epoch 45/50\n",
            "625/625 [==============================] - 8s 13ms/step - loss: 0.0709 - accuracy: 0.9673 - val_loss: 1.7333 - val_accuracy: 0.8003\n",
            "Epoch 46/50\n",
            "625/625 [==============================] - 8s 13ms/step - loss: 0.0824 - accuracy: 0.9628 - val_loss: 1.5930 - val_accuracy: 0.7970\n",
            "Epoch 47/50\n",
            "625/625 [==============================] - 8s 13ms/step - loss: 0.0719 - accuracy: 0.9673 - val_loss: 1.7227 - val_accuracy: 0.8000\n",
            "Epoch 48/50\n",
            "625/625 [==============================] - 8s 13ms/step - loss: 0.0684 - accuracy: 0.9684 - val_loss: 1.8369 - val_accuracy: 0.7971\n",
            "Epoch 49/50\n",
            "625/625 [==============================] - 8s 13ms/step - loss: 0.0679 - accuracy: 0.9688 - val_loss: 1.8614 - val_accuracy: 0.7971\n",
            "Epoch 50/50\n",
            "625/625 [==============================] - 8s 12ms/step - loss: 0.0654 - accuracy: 0.9685 - val_loss: 1.8664 - val_accuracy: 0.7895\n"
          ],
          "name": "stdout"
        }
      ]
    },
    {
      "cell_type": "code",
      "metadata": {
        "colab_type": "code",
        "id": "g9DC6dmLF8DC",
        "colab": {
          "base_uri": "https://localhost:8080/",
          "height": 542
        },
        "outputId": "4c85c7b9-2227-44d3-bad9-33ecf14151a6"
      },
      "source": [
        "import matplotlib.pyplot as plt\n",
        "\n",
        "\n",
        "def plot_graphs(history, string):\n",
        "  plt.plot(history.history[string])\n",
        "  plt.plot(history.history['val_'+string])\n",
        "  plt.xlabel(\"Epochs\")\n",
        "  plt.ylabel(string)\n",
        "  plt.legend([string, 'val_'+string])\n",
        "  plt.show()\n",
        "\n",
        "plot_graphs(history, 'accuracy')\n",
        "plot_graphs(history, 'loss')"
      ],
      "execution_count": 3,
      "outputs": [
        {
          "output_type": "display_data",
          "data": {
            "image/png": "[encoded data removed]",
            "text/plain": [
              "<Figure size 432x288 with 1 Axes>"
            ]
          },
          "metadata": {
            "tags": [],
            "needs_background": "light"
          }
        },
        {
          "output_type": "display_data",
          "data": {
            "image/png": "[encoded data removed]",
            "text/plain": [
              "<Figure size 432x288 with 1 Axes>"
            ]
          },
          "metadata": {
            "tags": [],
            "needs_background": "light"
          }
        }
      ]
    },
    {
      "cell_type": "code",
      "metadata": {
        "colab_type": "code",
        "id": "7ZEZIUppGhdi",
        "colab": {}
      },
      "source": [
        "model.save(\"test.h5\")"
      ],
      "execution_count": 4,
      "outputs": []
    }
  ]
}