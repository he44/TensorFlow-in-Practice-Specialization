{
  "nbformat": 4,
  "nbformat_minor": 0,
  "metadata": {
    "accelerator": "GPU",
    "colab": {
      "name": "NLP Course - Week 3 Exercise Question.ipynb",
      "provenance": []
    },
    "kernelspec": {
      "display_name": "Python 3",
      "name": "python3"
    }
  },
  "cells": [
    {
      "cell_type": "code",
      "metadata": {
        "id": "zX4Kg8DUTKWO",
        "colab_type": "code",
        "colab": {}
      },
      "source": [
        "#@title Licensed under the Apache License, Version 2.0 (the \"License\");\n",
        "# you may not use this file except in compliance with the License.\n",
        "# You may obtain a copy of the License at\n",
        "#\n",
        "# https://www.apache.org/licenses/LICENSE-2.0\n",
        "#\n",
        "# Unless required by applicable law or agreed to in writing, software\n",
        "# distributed under the License is distributed on an \"AS IS\" BASIS,\n",
        "# WITHOUT WARRANTIES OR CONDITIONS OF ANY KIND, either express or implied.\n",
        "# See the License for the specific language governing permissions and\n",
        "# limitations under the License."
      ],
      "execution_count": null,
      "outputs": []
    },
    {
      "cell_type": "code",
      "metadata": {
        "colab_type": "code",
        "id": "hmA6EzkQJ5jt",
        "colab": {}
      },
      "source": [
        "import json\n",
        "import tensorflow as tf\n",
        "import csv\n",
        "import random\n",
        "import numpy as np\n",
        "\n",
        "from tensorflow.keras.preprocessing.text import Tokenizer\n",
        "from tensorflow.keras.preprocessing.sequence import pad_sequences\n",
        "from tensorflow.keras.utils import to_categorical\n",
        "from tensorflow.keras import regularizers\n",
        "\n",
        "\n",
        "embedding_dim = 100\n",
        "max_length = 16\n",
        "trunc_type='post'\n",
        "padding_type='post'\n",
        "oov_tok = \"<OOV>\"\n",
        "training_size=160000#Your dataset size here. Experiment using smaller values (i.e. 16000), but don't forget to train on at least 160000 to see the best effects\n",
        "test_portion=.1\n",
        "\n",
        "corpus = []\n"
      ],
      "execution_count": 3,
      "outputs": []
    },
    {
      "cell_type": "code",
      "metadata": {
        "colab_type": "code",
        "id": "bM0l_dORKqE0",
        "colab": {
          "base_uri": "https://localhost:8080/",
          "height": 224
        },
        "outputId": "1ab0c42f-b084-4d7b-dfc1-4d42bb7460f0"
      },
      "source": [
        "# Note that I cleaned the Stanford dataset to remove LATIN1 encoding to make it easier for Python CSV reader\n",
        "# You can do that yourself with:\n",
        "# iconv -f LATIN1 -t UTF8 training.1600000.processed.noemoticon.csv -o training_cleaned.csv\n",
        "# I then hosted it on my site to make it easier to use in this notebook\n",
        "\n",
        "!wget --no-check-certificate \\\n",
        "    https://storage.googleapis.com/laurencemoroney-blog.appspot.com/training_cleaned.csv \\\n",
        "    -O /tmp/training_cleaned.csv\n",
        "\n",
        "num_sentences = 0\n",
        "\n",
        "with open(\"/tmp/training_cleaned.csv\") as csvfile:\n",
        "    reader = csv.reader(csvfile, delimiter=',')\n",
        "    for row in reader:\n",
        "      # Your Code here. Create list items where the first item is the text, found in row[5], and the second is the label. Note that the label is a '0' or a '4' in the text. When it's the former, make\n",
        "      # your label to be 0, otherwise 1. Keep a count of the number of sentences in num_sentences\n",
        "      sentence = row[5]\n",
        "      label_str = row[0]\n",
        "      label = 0 if label_str == '0' else 1\n",
        "      list_item=[sentence, label]\n",
        "      # # YOUR CODE HERE\n",
        "      num_sentences = num_sentences + 1\n",
        "      corpus.append(list_item)\n"
      ],
      "execution_count": 8,
      "outputs": [
        {
          "output_type": "stream",
          "text": [
            "--2020-08-09 19:31:19--  https://storage.googleapis.com/laurencemoroney-blog.appspot.com/training_cleaned.csv\n",
            "Resolving storage.googleapis.com (storage.googleapis.com)... 74.125.142.128, 74.125.195.128, 172.253.117.128, ...\n",
            "Connecting to storage.googleapis.com (storage.googleapis.com)|74.125.142.128|:443... connected.\n",
            "HTTP request sent, awaiting response... 200 OK\n",
            "Length: 238942690 (228M) [application/octet-stream]\n",
            "Saving to: ‘/tmp/training_cleaned.csv’\n",
            "\n",
            "/tmp/training_clean 100%[===================>] 227.87M   264MB/s    in 0.9s    \n",
            "\n",
            "2020-08-09 19:31:20 (264 MB/s) - ‘/tmp/training_cleaned.csv’ saved [238942690/238942690]\n",
            "\n"
          ],
          "name": "stdout"
        }
      ]
    },
    {
      "cell_type": "code",
      "metadata": {
        "colab_type": "code",
        "id": "3kxblBUjEUX-",
        "colab": {
          "base_uri": "https://localhost:8080/",
          "height": 68
        },
        "outputId": "b2c997b8-092d-49df-d48c-6b7b450b29fd"
      },
      "source": [
        "print(num_sentences)\n",
        "print(len(corpus))\n",
        "print(corpus[1])\n",
        "\n",
        "# Expected Output:\n",
        "# 1600000\n",
        "# 1600000\n",
        "# [\"is upset that he can't update his Facebook by texting it... and might cry as a result  School today also. Blah!\", 0]"
      ],
      "execution_count": 23,
      "outputs": [
        {
          "output_type": "stream",
          "text": [
            "1600000\n",
            "1600000\n",
            "['Worked out, wrote thank you notes, now shopping, might go get a pedicure, haha productive day ', 1]\n"
          ],
          "name": "stdout"
        }
      ]
    },
    {
      "cell_type": "code",
      "metadata": {
        "colab_type": "code",
        "id": "ohOGz24lsNAD",
        "colab": {}
      },
      "source": [
        "sentences=[]\n",
        "labels=[]\n",
        "random.shuffle(corpus)\n",
        "for x in range(training_size):\n",
        "    sentences.append(corpus[x][0])\n",
        "    labels.append(corpus[x][1])\n",
        "\n",
        "\n",
        "tokenizer = Tokenizer()\n",
        "tokenizer.fit_on_texts(sentences)\n",
        "\n",
        "word_index = tokenizer.word_index\n",
        "vocab_size=len(word_index)\n",
        "\n",
        "sequences = tokenizer.texts_to_sequences(sentences)\n",
        "padded = pad_sequences(sequences, maxlen=max_length, padding=padding_type, truncating=trunc_type)\n",
        "\n",
        "split = int(test_portion * training_size)\n",
        "\n",
        "test_sequences = padded[0:split]\n",
        "training_sequences = padded[split:training_size]\n",
        "test_labels = labels[0:split]\n",
        "training_labels = labels[split:training_size]"
      ],
      "execution_count": 24,
      "outputs": []
    },
    {
      "cell_type": "code",
      "metadata": {
        "colab_type": "code",
        "id": "gIrtRem1En3N",
        "colab": {
          "base_uri": "https://localhost:8080/",
          "height": 51
        },
        "outputId": "0f11d201-8b0e-4479-b6e4-ed0d0075a89f"
      },
      "source": [
        "print(vocab_size)\n",
        "print(word_index['i'])\n",
        "# Expected Output\n",
        "# 138858\n",
        "# 1"
      ],
      "execution_count": 25,
      "outputs": [
        {
          "output_type": "stream",
          "text": [
            "138597\n",
            "1\n"
          ],
          "name": "stdout"
        }
      ]
    },
    {
      "cell_type": "code",
      "metadata": {
        "colab_type": "code",
        "id": "C1zdgJkusRh0",
        "colab": {
          "base_uri": "https://localhost:8080/",
          "height": 224
        },
        "outputId": "c832c779-4fc4-4478-e10e-b0256e4dc82a"
      },
      "source": [
        "# Note this is the 100 dimension version of GloVe from Stanford\n",
        "# I unzipped and hosted it on my site to make this notebook easier\n",
        "!wget --no-check-certificate \\\n",
        "    https://storage.googleapis.com/laurencemoroney-blog.appspot.com/glove.6B.100d.txt \\\n",
        "    -O /tmp/glove.6B.100d.txt\n",
        "embeddings_index = {};\n",
        "with open('/tmp/glove.6B.100d.txt') as f:\n",
        "    for line in f:\n",
        "        values = line.split();\n",
        "        word = values[0];\n",
        "        coefs = np.asarray(values[1:], dtype='float32');\n",
        "        embeddings_index[word] = coefs;\n",
        "\n",
        "embeddings_matrix = np.zeros((vocab_size+1, embedding_dim));\n",
        "for word, i in word_index.items():\n",
        "    embedding_vector = embeddings_index.get(word);\n",
        "    if embedding_vector is not None:\n",
        "        embeddings_matrix[i] = embedding_vector;"
      ],
      "execution_count": 26,
      "outputs": [
        {
          "output_type": "stream",
          "text": [
            "--2020-08-09 19:45:04--  https://storage.googleapis.com/laurencemoroney-blog.appspot.com/glove.6B.100d.txt\n",
            "Resolving storage.googleapis.com (storage.googleapis.com)... 74.125.142.128, 74.125.195.128, 2607:f8b0:400e:c07::80, ...\n",
            "Connecting to storage.googleapis.com (storage.googleapis.com)|74.125.142.128|:443... connected.\n",
            "HTTP request sent, awaiting response... 200 OK\n",
            "Length: 347116733 (331M) [text/plain]\n",
            "Saving to: ‘/tmp/glove.6B.100d.txt’\n",
            "\n",
            "/tmp/glove.6B.100d. 100%[===================>] 331.04M   254MB/s    in 1.3s    \n",
            "\n",
            "2020-08-09 19:45:06 (254 MB/s) - ‘/tmp/glove.6B.100d.txt’ saved [347116733/347116733]\n",
            "\n"
          ],
          "name": "stdout"
        }
      ]
    },
    {
      "cell_type": "code",
      "metadata": {
        "colab_type": "code",
        "id": "71NLk_lpFLNt",
        "colab": {
          "base_uri": "https://localhost:8080/",
          "height": 34
        },
        "outputId": "03b9778e-37b2-42b2-fc53-41266076507e"
      },
      "source": [
        "print(len(embeddings_matrix))\n",
        "# Expected Output\n",
        "# 138859"
      ],
      "execution_count": 27,
      "outputs": [
        {
          "output_type": "stream",
          "text": [
            "138598\n"
          ],
          "name": "stdout"
        }
      ]
    },
    {
      "cell_type": "code",
      "metadata": {
        "id": "GmZyZMVlvRH8",
        "colab_type": "code",
        "colab": {
          "base_uri": "https://localhost:8080/",
          "height": 51
        },
        "outputId": "c07ad245-106f-42fa-93e1-0de3f76ba7fd"
      },
      "source": [
        "print(type(training_labels))\n",
        "print(training_labels[0], type(training_labels[0]))"
      ],
      "execution_count": 28,
      "outputs": [
        {
          "output_type": "stream",
          "text": [
            "<class 'list'>\n",
            "1 <class 'int'>\n"
          ],
          "name": "stdout"
        }
      ]
    },
    {
      "cell_type": "code",
      "metadata": {
        "colab_type": "code",
        "id": "iKKvbuEBOGFz",
        "colab": {
          "base_uri": "https://localhost:8080/",
          "height": 1000
        },
        "outputId": "7ff339ca-cf50-4d46-e8af-d4d5a77cab46"
      },
      "source": [
        "model = tf.keras.Sequential([\n",
        "    tf.keras.layers.Embedding(vocab_size+1, embedding_dim, input_length=max_length, weights=[embeddings_matrix], trainable=False),\n",
        "    # YOUR CODE HERE - experiment with combining different types, such as convolutions and \n",
        "    tf.keras.layers.Dropout(0.2),\n",
        "    tf.keras.layers.Conv1D(64, 5, activation='relu'),\n",
        "    tf.keras.layers.MaxPooling1D(pool_size=4),\n",
        "    tf.keras.layers.LSTM(64),\n",
        "    tf.keras.layers.Dense(1, activation='sigmoid')\n",
        "])\n",
        "model.compile(loss='binary_crossentropy',optimizer='adam',metrics=['accuracy'])\n",
        "model.summary()\n",
        "\n",
        "training_sequences = np.array(training_sequences)\n",
        "training_labels = np.array(training_labels)\n",
        "test_sequences = np.array(test_sequences)\n",
        "test_labels = np.array(test_labels)\n",
        "\n",
        "num_epochs = 50\n",
        "history = model.fit(training_sequences, training_labels, epochs=num_epochs, validation_data=(test_sequences, test_labels), verbose=2)\n",
        "\n",
        "print(\"Training Complete\")\n"
      ],
      "execution_count": 29,
      "outputs": [
        {
          "output_type": "stream",
          "text": [
            "Model: \"sequential_2\"\n",
            "_________________________________________________________________\n",
            "Layer (type)                 Output Shape              Param #   \n",
            "=================================================================\n",
            "embedding_2 (Embedding)      (None, 16, 100)           13859800  \n",
            "_________________________________________________________________\n",
            "dropout_2 (Dropout)          (None, 16, 100)           0         \n",
            "_________________________________________________________________\n",
            "conv1d_2 (Conv1D)            (None, 12, 64)            32064     \n",
            "_________________________________________________________________\n",
            "max_pooling1d_2 (MaxPooling1 (None, 3, 64)             0         \n",
            "_________________________________________________________________\n",
            "lstm_2 (LSTM)                (None, 64)                33024     \n",
            "_________________________________________________________________\n",
            "dense_2 (Dense)              (None, 1)                 65        \n",
            "=================================================================\n",
            "Total params: 13,924,953\n",
            "Trainable params: 65,153\n",
            "Non-trainable params: 13,859,800\n",
            "_________________________________________________________________\n",
            "Epoch 1/50\n",
            "4500/4500 - 15s - loss: 0.5659 - accuracy: 0.6996 - val_loss: 0.5306 - val_accuracy: 0.7255\n",
            "Epoch 2/50\n",
            "4500/4500 - 14s - loss: 0.5249 - accuracy: 0.7330 - val_loss: 0.5175 - val_accuracy: 0.7377\n",
            "Epoch 3/50\n",
            "4500/4500 - 14s - loss: 0.5087 - accuracy: 0.7440 - val_loss: 0.5068 - val_accuracy: 0.7437\n",
            "Epoch 4/50\n",
            "4500/4500 - 14s - loss: 0.4970 - accuracy: 0.7534 - val_loss: 0.5055 - val_accuracy: 0.7457\n",
            "Epoch 5/50\n",
            "4500/4500 - 14s - loss: 0.4873 - accuracy: 0.7585 - val_loss: 0.5019 - val_accuracy: 0.7512\n",
            "Epoch 6/50\n",
            "4500/4500 - 14s - loss: 0.4803 - accuracy: 0.7635 - val_loss: 0.5004 - val_accuracy: 0.7497\n",
            "Epoch 7/50\n",
            "4500/4500 - 14s - loss: 0.4736 - accuracy: 0.7681 - val_loss: 0.5091 - val_accuracy: 0.7483\n",
            "Epoch 8/50\n",
            "4500/4500 - 14s - loss: 0.4681 - accuracy: 0.7706 - val_loss: 0.5106 - val_accuracy: 0.7442\n",
            "Epoch 9/50\n",
            "4500/4500 - 14s - loss: 0.4637 - accuracy: 0.7732 - val_loss: 0.5029 - val_accuracy: 0.7472\n",
            "Epoch 10/50\n",
            "4500/4500 - 14s - loss: 0.4610 - accuracy: 0.7753 - val_loss: 0.5030 - val_accuracy: 0.7499\n",
            "Epoch 11/50\n",
            "4500/4500 - 14s - loss: 0.4571 - accuracy: 0.7785 - val_loss: 0.5064 - val_accuracy: 0.7478\n",
            "Epoch 12/50\n",
            "4500/4500 - 14s - loss: 0.4544 - accuracy: 0.7791 - val_loss: 0.5074 - val_accuracy: 0.7485\n",
            "Epoch 13/50\n",
            "4500/4500 - 14s - loss: 0.4509 - accuracy: 0.7816 - val_loss: 0.5168 - val_accuracy: 0.7480\n",
            "Epoch 14/50\n",
            "4500/4500 - 14s - loss: 0.4486 - accuracy: 0.7830 - val_loss: 0.5106 - val_accuracy: 0.7507\n",
            "Epoch 15/50\n",
            "4500/4500 - 14s - loss: 0.4469 - accuracy: 0.7848 - val_loss: 0.5108 - val_accuracy: 0.7474\n",
            "Epoch 16/50\n",
            "4500/4500 - 14s - loss: 0.4435 - accuracy: 0.7860 - val_loss: 0.5162 - val_accuracy: 0.7484\n",
            "Epoch 17/50\n",
            "4500/4500 - 15s - loss: 0.4428 - accuracy: 0.7872 - val_loss: 0.5136 - val_accuracy: 0.7484\n",
            "Epoch 18/50\n",
            "4500/4500 - 14s - loss: 0.4407 - accuracy: 0.7871 - val_loss: 0.5179 - val_accuracy: 0.7496\n",
            "Epoch 19/50\n",
            "4500/4500 - 14s - loss: 0.4398 - accuracy: 0.7876 - val_loss: 0.5243 - val_accuracy: 0.7424\n",
            "Epoch 20/50\n",
            "4500/4500 - 14s - loss: 0.4378 - accuracy: 0.7893 - val_loss: 0.5150 - val_accuracy: 0.7459\n",
            "Epoch 21/50\n",
            "4500/4500 - 14s - loss: 0.4378 - accuracy: 0.7900 - val_loss: 0.5164 - val_accuracy: 0.7440\n",
            "Epoch 22/50\n",
            "4500/4500 - 14s - loss: 0.4352 - accuracy: 0.7919 - val_loss: 0.5209 - val_accuracy: 0.7404\n",
            "Epoch 23/50\n",
            "4500/4500 - 14s - loss: 0.4341 - accuracy: 0.7915 - val_loss: 0.5171 - val_accuracy: 0.7488\n",
            "Epoch 24/50\n",
            "4500/4500 - 14s - loss: 0.4360 - accuracy: 0.7902 - val_loss: 0.5145 - val_accuracy: 0.7503\n",
            "Epoch 25/50\n",
            "4500/4500 - 14s - loss: 0.4329 - accuracy: 0.7930 - val_loss: 0.5115 - val_accuracy: 0.7482\n",
            "Epoch 26/50\n",
            "4500/4500 - 14s - loss: 0.4319 - accuracy: 0.7936 - val_loss: 0.5250 - val_accuracy: 0.7454\n",
            "Epoch 27/50\n",
            "4500/4500 - 14s - loss: 0.4296 - accuracy: 0.7937 - val_loss: 0.5202 - val_accuracy: 0.7464\n",
            "Epoch 28/50\n",
            "4500/4500 - 14s - loss: 0.4301 - accuracy: 0.7934 - val_loss: 0.5211 - val_accuracy: 0.7462\n",
            "Epoch 29/50\n",
            "4500/4500 - 14s - loss: 0.4276 - accuracy: 0.7962 - val_loss: 0.5247 - val_accuracy: 0.7466\n",
            "Epoch 30/50\n",
            "4500/4500 - 14s - loss: 0.4300 - accuracy: 0.7941 - val_loss: 0.5208 - val_accuracy: 0.7497\n",
            "Epoch 31/50\n",
            "4500/4500 - 14s - loss: 0.4282 - accuracy: 0.7956 - val_loss: 0.5196 - val_accuracy: 0.7449\n",
            "Epoch 32/50\n",
            "4500/4500 - 14s - loss: 0.4274 - accuracy: 0.7963 - val_loss: 0.5231 - val_accuracy: 0.7437\n",
            "Epoch 33/50\n",
            "4500/4500 - 14s - loss: 0.4277 - accuracy: 0.7960 - val_loss: 0.5236 - val_accuracy: 0.7465\n",
            "Epoch 34/50\n",
            "4500/4500 - 14s - loss: 0.4271 - accuracy: 0.7961 - val_loss: 0.5201 - val_accuracy: 0.7452\n",
            "Epoch 35/50\n",
            "4500/4500 - 14s - loss: 0.4269 - accuracy: 0.7965 - val_loss: 0.5205 - val_accuracy: 0.7479\n",
            "Epoch 36/50\n",
            "4500/4500 - 14s - loss: 0.4251 - accuracy: 0.7972 - val_loss: 0.5223 - val_accuracy: 0.7466\n",
            "Epoch 37/50\n",
            "4500/4500 - 14s - loss: 0.4254 - accuracy: 0.7981 - val_loss: 0.5230 - val_accuracy: 0.7464\n",
            "Epoch 38/50\n",
            "4500/4500 - 15s - loss: 0.4265 - accuracy: 0.7965 - val_loss: 0.5211 - val_accuracy: 0.7448\n",
            "Epoch 39/50\n",
            "4500/4500 - 15s - loss: 0.4253 - accuracy: 0.7965 - val_loss: 0.5271 - val_accuracy: 0.7487\n",
            "Epoch 40/50\n",
            "4500/4500 - 14s - loss: 0.4267 - accuracy: 0.7961 - val_loss: 0.5204 - val_accuracy: 0.7468\n",
            "Epoch 41/50\n",
            "4500/4500 - 14s - loss: 0.4247 - accuracy: 0.7983 - val_loss: 0.5239 - val_accuracy: 0.7439\n",
            "Epoch 42/50\n",
            "4500/4500 - 15s - loss: 0.4247 - accuracy: 0.7975 - val_loss: 0.5254 - val_accuracy: 0.7457\n",
            "Epoch 43/50\n",
            "4500/4500 - 14s - loss: 0.4247 - accuracy: 0.7979 - val_loss: 0.5181 - val_accuracy: 0.7439\n",
            "Epoch 44/50\n",
            "4500/4500 - 14s - loss: 0.4219 - accuracy: 0.8003 - val_loss: 0.5243 - val_accuracy: 0.7441\n",
            "Epoch 45/50\n",
            "4500/4500 - 14s - loss: 0.4218 - accuracy: 0.7993 - val_loss: 0.5280 - val_accuracy: 0.7434\n",
            "Epoch 46/50\n",
            "4500/4500 - 14s - loss: 0.4231 - accuracy: 0.7981 - val_loss: 0.5272 - val_accuracy: 0.7440\n",
            "Epoch 47/50\n",
            "4500/4500 - 14s - loss: 0.4227 - accuracy: 0.7992 - val_loss: 0.5235 - val_accuracy: 0.7481\n",
            "Epoch 48/50\n",
            "4500/4500 - 14s - loss: 0.4224 - accuracy: 0.7989 - val_loss: 0.5272 - val_accuracy: 0.7460\n",
            "Epoch 49/50\n",
            "4500/4500 - 14s - loss: 0.4218 - accuracy: 0.7987 - val_loss: 0.5243 - val_accuracy: 0.7417\n",
            "Epoch 50/50\n",
            "4500/4500 - 14s - loss: 0.4228 - accuracy: 0.7991 - val_loss: 0.5285 - val_accuracy: 0.7424\n",
            "Training Complete\n"
          ],
          "name": "stdout"
        }
      ]
    },
    {
      "cell_type": "code",
      "metadata": {
        "colab_type": "code",
        "id": "qxju4ItJKO8F",
        "colab": {
          "base_uri": "https://localhost:8080/",
          "height": 607
        },
        "outputId": "428d9f7d-d49c-46db-e625-9ece558fb7b5"
      },
      "source": [
        "import matplotlib.image  as mpimg\n",
        "import matplotlib.pyplot as plt\n",
        "\n",
        "#-----------------------------------------------------------\n",
        "# Retrieve a list of list results on training and test data\n",
        "# sets for each training epoch\n",
        "#-----------------------------------------------------------\n",
        "acc=history.history['accuracy']\n",
        "val_acc=history.history['val_accuracy']\n",
        "loss=history.history['loss']\n",
        "val_loss=history.history['val_loss']\n",
        "\n",
        "epochs=range(len(acc)) # Get number of epochs\n",
        "\n",
        "#------------------------------------------------\n",
        "# Plot training and validation accuracy per epoch\n",
        "#------------------------------------------------\n",
        "plt.plot(epochs, acc, 'r')\n",
        "plt.plot(epochs, val_acc, 'b')\n",
        "plt.title('Training and validation accuracy')\n",
        "plt.xlabel(\"Epochs\")\n",
        "plt.ylabel(\"Accuracy\")\n",
        "plt.legend([\"Accuracy\", \"Validation Accuracy\"])\n",
        "\n",
        "plt.figure()\n",
        "\n",
        "#------------------------------------------------\n",
        "# Plot training and validation loss per epoch\n",
        "#------------------------------------------------\n",
        "plt.plot(epochs, loss, 'r')\n",
        "plt.plot(epochs, val_loss, 'b')\n",
        "plt.title('Training and validation loss')\n",
        "plt.xlabel(\"Epochs\")\n",
        "plt.ylabel(\"Loss\")\n",
        "plt.legend([\"Loss\", \"Validation Loss\"])\n",
        "\n",
        "plt.figure()\n",
        "\n",
        "\n",
        "# Expected Output\n",
        "# A chart where the validation loss does not increase sharply!"
      ],
      "execution_count": 30,
      "outputs": [
        {
          "output_type": "execute_result",
          "data": {
            "text/plain": [
              "<Figure size 432x288 with 0 Axes>"
            ]
          },
          "metadata": {
            "tags": []
          },
          "execution_count": 30
        },
        {
          "output_type": "display_data",
          "data": {
            "image/png": "[encoded data removed]",
            "text/plain": [
              "<Figure size 432x288 with 1 Axes>"
            ]
          },
          "metadata": {
            "tags": [],
            "needs_background": "light"
          }
        },
        {
          "output_type": "display_data",
          "data": {
            "image/png": "[encoded data removed]",
            "text/plain": [
              "<Figure size 432x288 with 1 Axes>"
            ]
          },
          "metadata": {
            "tags": [],
            "needs_background": "light"
          }
        },
        {
          "output_type": "display_data",
          "data": {
            "text/plain": [
              "<Figure size 432x288 with 0 Axes>"
            ]
          },
          "metadata": {
            "tags": []
          }
        }
      ]
    }
  ]
}