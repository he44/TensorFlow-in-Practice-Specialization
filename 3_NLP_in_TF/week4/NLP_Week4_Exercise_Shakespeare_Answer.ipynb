{
  "nbformat": 4,
  "nbformat_minor": 0,
  "metadata": {
    "accelerator": "GPU",
    "colab": {
      "name": "NLP_Week4_Exercise_Shakespeare_Answer.ipynb",
      "provenance": []
    },
    "kernelspec": {
      "display_name": "Python 3",
      "name": "python3"
    }
  },
  "cells": [
    {
      "cell_type": "code",
      "metadata": {
        "id": "zX4Kg8DUTKWO",
        "colab_type": "code",
        "colab": {}
      },
      "source": [
        "#@title Licensed under the Apache License, Version 2.0 (the \"License\");\n",
        "# you may not use this file except in compliance with the License.\n",
        "# You may obtain a copy of the License at\n",
        "#\n",
        "# https://www.apache.org/licenses/LICENSE-2.0\n",
        "#\n",
        "# Unless required by applicable law or agreed to in writing, software\n",
        "# distributed under the License is distributed on an \"AS IS\" BASIS,\n",
        "# WITHOUT WARRANTIES OR CONDITIONS OF ANY KIND, either express or implied.\n",
        "# See the License for the specific language governing permissions and\n",
        "# limitations under the License."
      ],
      "execution_count": 1,
      "outputs": []
    },
    {
      "cell_type": "code",
      "metadata": {
        "colab_type": "code",
        "id": "BOwsuGQQY9OL",
        "colab": {}
      },
      "source": [
        "from tensorflow.keras.preprocessing.sequence import pad_sequences\n",
        "from tensorflow.keras.layers import Embedding, LSTM, Dense, Dropout, Bidirectional\n",
        "from tensorflow.keras.preprocessing.text import Tokenizer\n",
        "from tensorflow.keras.models import Sequential\n",
        "from tensorflow.keras.optimizers import Adam\n",
        "from tensorflow.keras import regularizers\n",
        "import tensorflow.keras.utils as ku \n",
        "import numpy as np "
      ],
      "execution_count": 2,
      "outputs": []
    },
    {
      "cell_type": "code",
      "metadata": {
        "colab_type": "code",
        "id": "PRnDnCW-Z7qv",
        "colab": {
          "base_uri": "https://localhost:8080/",
          "height": 224
        },
        "outputId": "1c19be2f-e291-42e5-9e7b-ae3307a03302"
      },
      "source": [
        "tokenizer = Tokenizer()\n",
        "!wget --no-check-certificate \\\n",
        "    https://storage.googleapis.com/laurencemoroney-blog.appspot.com/sonnets.txt \\\n",
        "    -O /tmp/sonnets.txt\n",
        "data = open('/tmp/sonnets.txt').read()\n",
        "\n",
        "corpus = data.lower().split(\"\\n\")\n",
        "\n",
        "\n",
        "tokenizer.fit_on_texts(corpus)\n",
        "total_words = len(tokenizer.word_index) + 1\n",
        "\n",
        "# create input sequences using list of tokens\n",
        "input_sequences = []\n",
        "for line in corpus:\n",
        "\ttoken_list = tokenizer.texts_to_sequences([line])[0]\n",
        "\tfor i in range(1, len(token_list)):\n",
        "\t\tn_gram_sequence = token_list[:i+1]\n",
        "\t\tinput_sequences.append(n_gram_sequence)\n",
        "\n",
        "\n",
        "# pad sequences \n",
        "max_sequence_len = max([len(x) for x in input_sequences])\n",
        "input_sequences = np.array(pad_sequences(input_sequences, maxlen=max_sequence_len, padding='pre'))\n",
        "\n",
        "# create predictors and label\n",
        "predictors, label = input_sequences[:,:-1],input_sequences[:,-1]\n",
        "\n",
        "label = ku.to_categorical(label, num_classes=total_words)"
      ],
      "execution_count": 3,
      "outputs": [
        {
          "output_type": "stream",
          "text": [
            "--2020-08-19 05:20:40--  https://storage.googleapis.com/laurencemoroney-blog.appspot.com/sonnets.txt\n",
            "Resolving storage.googleapis.com (storage.googleapis.com)... 74.125.203.128, 74.125.204.128, 64.233.189.128, ...\n",
            "Connecting to storage.googleapis.com (storage.googleapis.com)|74.125.203.128|:443... connected.\n",
            "HTTP request sent, awaiting response... 200 OK\n",
            "Length: 93578 (91K) [text/plain]\n",
            "Saving to: ‘/tmp/sonnets.txt’\n",
            "\n",
            "\r/tmp/sonnets.txt      0%[                    ]       0  --.-KB/s               \r/tmp/sonnets.txt    100%[===================>]  91.38K  --.-KB/s    in 0.001s  \n",
            "\n",
            "2020-08-19 05:20:40 (99.0 MB/s) - ‘/tmp/sonnets.txt’ saved [93578/93578]\n",
            "\n"
          ],
          "name": "stdout"
        }
      ]
    },
    {
      "cell_type": "code",
      "metadata": {
        "colab_type": "code",
        "id": "w9vH8Y59ajYL",
        "colab": {
          "base_uri": "https://localhost:8080/",
          "height": 374
        },
        "outputId": "bd660b7e-a37d-49a0-b3f9-d73df008dfe4"
      },
      "source": [
        "model = Sequential()\n",
        "model.add(Embedding(total_words, 100, input_length=max_sequence_len-1))\n",
        "model.add(Bidirectional(LSTM(150, return_sequences = True)))\n",
        "model.add(Dropout(0.2))\n",
        "model.add(LSTM(100))\n",
        "model.add(Dense(total_words/2, activation='relu', kernel_regularizer=regularizers.l2(0.01)))\n",
        "model.add(Dense(total_words, activation='softmax'))\n",
        "model.compile(loss='categorical_crossentropy', optimizer='adam', metrics=['accuracy'])\n",
        "print(model.summary())\n"
      ],
      "execution_count": 4,
      "outputs": [
        {
          "output_type": "stream",
          "text": [
            "Model: \"sequential\"\n",
            "_________________________________________________________________\n",
            "Layer (type)                 Output Shape              Param #   \n",
            "=================================================================\n",
            "embedding (Embedding)        (None, 10, 100)           321100    \n",
            "_________________________________________________________________\n",
            "bidirectional (Bidirectional (None, 10, 300)           301200    \n",
            "_________________________________________________________________\n",
            "dropout (Dropout)            (None, 10, 300)           0         \n",
            "_________________________________________________________________\n",
            "lstm_1 (LSTM)                (None, 100)               160400    \n",
            "_________________________________________________________________\n",
            "dense (Dense)                (None, 1605)              162105    \n",
            "_________________________________________________________________\n",
            "dense_1 (Dense)              (None, 3211)              5156866   \n",
            "=================================================================\n",
            "Total params: 6,101,671\n",
            "Trainable params: 6,101,671\n",
            "Non-trainable params: 0\n",
            "_________________________________________________________________\n",
            "None\n"
          ],
          "name": "stdout"
        }
      ]
    },
    {
      "cell_type": "code",
      "metadata": {
        "colab_type": "code",
        "id": "AIg2f1HBxqof",
        "colab": {
          "base_uri": "https://localhost:8080/",
          "height": 1000
        },
        "outputId": "b697d6d4-ffe7-4e6f-afc8-89b3390d1e9e"
      },
      "source": [
        " history = model.fit(predictors, label, epochs=100, verbose=1)"
      ],
      "execution_count": 5,
      "outputs": [
        {
          "output_type": "stream",
          "text": [
            "Epoch 1/100\n",
            "484/484 [==============================] - 12s 26ms/step - loss: 6.9132 - accuracy: 0.0209\n",
            "Epoch 2/100\n",
            "484/484 [==============================] - 12s 26ms/step - loss: 6.5013 - accuracy: 0.0221\n",
            "Epoch 3/100\n",
            "484/484 [==============================] - 12s 26ms/step - loss: 6.3986 - accuracy: 0.0251\n",
            "Epoch 4/100\n",
            "484/484 [==============================] - 12s 26ms/step - loss: 6.2791 - accuracy: 0.0293\n",
            "Epoch 5/100\n",
            "484/484 [==============================] - 12s 26ms/step - loss: 6.1894 - accuracy: 0.0358\n",
            "Epoch 6/100\n",
            "484/484 [==============================] - 13s 26ms/step - loss: 6.1138 - accuracy: 0.0383\n",
            "Epoch 7/100\n",
            "484/484 [==============================] - 13s 26ms/step - loss: 6.0376 - accuracy: 0.0400\n",
            "Epoch 8/100\n",
            "484/484 [==============================] - 12s 26ms/step - loss: 5.9601 - accuracy: 0.0453\n",
            "Epoch 9/100\n",
            "484/484 [==============================] - 12s 26ms/step - loss: 5.8718 - accuracy: 0.0520\n",
            "Epoch 10/100\n",
            "484/484 [==============================] - 13s 26ms/step - loss: 5.7721 - accuracy: 0.0554\n",
            "Epoch 11/100\n",
            "484/484 [==============================] - 12s 26ms/step - loss: 5.6702 - accuracy: 0.0617\n",
            "Epoch 12/100\n",
            "484/484 [==============================] - 12s 26ms/step - loss: 5.5679 - accuracy: 0.0690\n",
            "Epoch 13/100\n",
            "484/484 [==============================] - 12s 26ms/step - loss: 5.4645 - accuracy: 0.0745\n",
            "Epoch 14/100\n",
            "484/484 [==============================] - 12s 26ms/step - loss: 5.3614 - accuracy: 0.0779\n",
            "Epoch 15/100\n",
            "484/484 [==============================] - 12s 26ms/step - loss: 5.2618 - accuracy: 0.0873\n",
            "Epoch 16/100\n",
            "484/484 [==============================] - 12s 26ms/step - loss: 5.1541 - accuracy: 0.0893\n",
            "Epoch 17/100\n",
            "484/484 [==============================] - 12s 26ms/step - loss: 5.0485 - accuracy: 0.0964\n",
            "Epoch 18/100\n",
            "484/484 [==============================] - 12s 26ms/step - loss: 4.9493 - accuracy: 0.1054\n",
            "Epoch 19/100\n",
            "484/484 [==============================] - 12s 26ms/step - loss: 4.8502 - accuracy: 0.1136\n",
            "Epoch 20/100\n",
            "484/484 [==============================] - 12s 26ms/step - loss: 4.7428 - accuracy: 0.1237\n",
            "Epoch 21/100\n",
            "484/484 [==============================] - 12s 26ms/step - loss: 4.6389 - accuracy: 0.1332\n",
            "Epoch 22/100\n",
            "484/484 [==============================] - 12s 26ms/step - loss: 4.5269 - accuracy: 0.1423\n",
            "Epoch 23/100\n",
            "484/484 [==============================] - 12s 26ms/step - loss: 4.4261 - accuracy: 0.1519\n",
            "Epoch 24/100\n",
            "484/484 [==============================] - 12s 26ms/step - loss: 4.3261 - accuracy: 0.1655\n",
            "Epoch 25/100\n",
            "484/484 [==============================] - 12s 26ms/step - loss: 4.2192 - accuracy: 0.1784\n",
            "Epoch 26/100\n",
            "484/484 [==============================] - 12s 26ms/step - loss: 4.1125 - accuracy: 0.1901\n",
            "Epoch 27/100\n",
            "484/484 [==============================] - 12s 26ms/step - loss: 4.0124 - accuracy: 0.2043\n",
            "Epoch 28/100\n",
            "484/484 [==============================] - 12s 26ms/step - loss: 3.9038 - accuracy: 0.2183\n",
            "Epoch 29/100\n",
            "484/484 [==============================] - 12s 26ms/step - loss: 3.8072 - accuracy: 0.2408\n",
            "Epoch 30/100\n",
            "484/484 [==============================] - 13s 26ms/step - loss: 3.7100 - accuracy: 0.2575\n",
            "Epoch 31/100\n",
            "484/484 [==============================] - 13s 26ms/step - loss: 3.6112 - accuracy: 0.2742\n",
            "Epoch 32/100\n",
            "484/484 [==============================] - 13s 26ms/step - loss: 3.5193 - accuracy: 0.2929\n",
            "Epoch 33/100\n",
            "484/484 [==============================] - 12s 26ms/step - loss: 3.4301 - accuracy: 0.3135\n",
            "Epoch 34/100\n",
            "484/484 [==============================] - 13s 26ms/step - loss: 3.3556 - accuracy: 0.3258\n",
            "Epoch 35/100\n",
            "484/484 [==============================] - 12s 26ms/step - loss: 3.2724 - accuracy: 0.3503\n",
            "Epoch 36/100\n",
            "484/484 [==============================] - 13s 26ms/step - loss: 3.1845 - accuracy: 0.3677\n",
            "Epoch 37/100\n",
            "484/484 [==============================] - 12s 26ms/step - loss: 3.1044 - accuracy: 0.3878\n",
            "Epoch 38/100\n",
            "484/484 [==============================] - 12s 26ms/step - loss: 3.0269 - accuracy: 0.4010\n",
            "Epoch 39/100\n",
            "484/484 [==============================] - 12s 26ms/step - loss: 2.9547 - accuracy: 0.4237\n",
            "Epoch 40/100\n",
            "484/484 [==============================] - 12s 26ms/step - loss: 2.8945 - accuracy: 0.4354\n",
            "Epoch 41/100\n",
            "484/484 [==============================] - 12s 26ms/step - loss: 2.8246 - accuracy: 0.4498\n",
            "Epoch 42/100\n",
            "484/484 [==============================] - 12s 26ms/step - loss: 2.7614 - accuracy: 0.4646\n",
            "Epoch 43/100\n",
            "484/484 [==============================] - 12s 26ms/step - loss: 2.6988 - accuracy: 0.4803\n",
            "Epoch 44/100\n",
            "484/484 [==============================] - 12s 26ms/step - loss: 2.6269 - accuracy: 0.4966\n",
            "Epoch 45/100\n",
            "484/484 [==============================] - 12s 26ms/step - loss: 2.5851 - accuracy: 0.5065\n",
            "Epoch 46/100\n",
            "484/484 [==============================] - 12s 26ms/step - loss: 2.5166 - accuracy: 0.5268\n",
            "Epoch 47/100\n",
            "484/484 [==============================] - 12s 26ms/step - loss: 2.4610 - accuracy: 0.5340\n",
            "Epoch 48/100\n",
            "484/484 [==============================] - 12s 26ms/step - loss: 2.4053 - accuracy: 0.5496\n",
            "Epoch 49/100\n",
            "484/484 [==============================] - 12s 26ms/step - loss: 2.3549 - accuracy: 0.5609\n",
            "Epoch 50/100\n",
            "484/484 [==============================] - 12s 26ms/step - loss: 2.3137 - accuracy: 0.5660\n",
            "Epoch 51/100\n",
            "484/484 [==============================] - 12s 25ms/step - loss: 2.2553 - accuracy: 0.5792\n",
            "Epoch 52/100\n",
            "484/484 [==============================] - 12s 26ms/step - loss: 2.2155 - accuracy: 0.5891\n",
            "Epoch 53/100\n",
            "484/484 [==============================] - 12s 25ms/step - loss: 2.1737 - accuracy: 0.5977\n",
            "Epoch 54/100\n",
            "484/484 [==============================] - 12s 25ms/step - loss: 2.1257 - accuracy: 0.6111\n",
            "Epoch 55/100\n",
            "484/484 [==============================] - 12s 26ms/step - loss: 2.0810 - accuracy: 0.6218\n",
            "Epoch 56/100\n",
            "484/484 [==============================] - 13s 26ms/step - loss: 2.0422 - accuracy: 0.6301\n",
            "Epoch 57/100\n",
            "484/484 [==============================] - 13s 26ms/step - loss: 2.0043 - accuracy: 0.6359\n",
            "Epoch 58/100\n",
            "484/484 [==============================] - 12s 26ms/step - loss: 1.9669 - accuracy: 0.6484\n",
            "Epoch 59/100\n",
            "484/484 [==============================] - 13s 26ms/step - loss: 1.9392 - accuracy: 0.6522\n",
            "Epoch 60/100\n",
            "484/484 [==============================] - 12s 25ms/step - loss: 1.8950 - accuracy: 0.6628\n",
            "Epoch 61/100\n",
            "484/484 [==============================] - 12s 26ms/step - loss: 1.8554 - accuracy: 0.6683\n",
            "Epoch 62/100\n",
            "484/484 [==============================] - 12s 26ms/step - loss: 1.8389 - accuracy: 0.6729\n",
            "Epoch 63/100\n",
            "484/484 [==============================] - 12s 26ms/step - loss: 1.7971 - accuracy: 0.6829\n",
            "Epoch 64/100\n",
            "484/484 [==============================] - 12s 26ms/step - loss: 1.7711 - accuracy: 0.6871\n",
            "Epoch 65/100\n",
            "484/484 [==============================] - 12s 25ms/step - loss: 1.7396 - accuracy: 0.6938\n",
            "Epoch 66/100\n",
            "484/484 [==============================] - 12s 26ms/step - loss: 1.7084 - accuracy: 0.7022\n",
            "Epoch 67/100\n",
            "484/484 [==============================] - 12s 26ms/step - loss: 1.6883 - accuracy: 0.7022\n",
            "Epoch 68/100\n",
            "484/484 [==============================] - 12s 26ms/step - loss: 1.6505 - accuracy: 0.7111\n",
            "Epoch 69/100\n",
            "484/484 [==============================] - 12s 26ms/step - loss: 1.6192 - accuracy: 0.7163\n",
            "Epoch 70/100\n",
            "484/484 [==============================] - 12s 25ms/step - loss: 1.6034 - accuracy: 0.7229\n",
            "Epoch 71/100\n",
            "484/484 [==============================] - 12s 26ms/step - loss: 1.5783 - accuracy: 0.7280\n",
            "Epoch 72/100\n",
            "484/484 [==============================] - 12s 25ms/step - loss: 1.5705 - accuracy: 0.7246\n",
            "Epoch 73/100\n",
            "484/484 [==============================] - 12s 25ms/step - loss: 1.5457 - accuracy: 0.7301\n",
            "Epoch 74/100\n",
            "484/484 [==============================] - 12s 25ms/step - loss: 1.5266 - accuracy: 0.7348\n",
            "Epoch 75/100\n",
            "484/484 [==============================] - 12s 25ms/step - loss: 1.4868 - accuracy: 0.7438\n",
            "Epoch 76/100\n",
            "484/484 [==============================] - 12s 26ms/step - loss: 1.4839 - accuracy: 0.7438\n",
            "Epoch 77/100\n",
            "484/484 [==============================] - 12s 26ms/step - loss: 1.4638 - accuracy: 0.7461\n",
            "Epoch 78/100\n",
            "484/484 [==============================] - 12s 26ms/step - loss: 1.4215 - accuracy: 0.7581\n",
            "Epoch 79/100\n",
            "484/484 [==============================] - 12s 25ms/step - loss: 1.4088 - accuracy: 0.7601\n",
            "Epoch 80/100\n",
            "484/484 [==============================] - 12s 26ms/step - loss: 1.3909 - accuracy: 0.7624\n",
            "Epoch 81/100\n",
            "484/484 [==============================] - 13s 26ms/step - loss: 1.3910 - accuracy: 0.7582\n",
            "Epoch 82/100\n",
            "484/484 [==============================] - 13s 26ms/step - loss: 1.3836 - accuracy: 0.7604\n",
            "Epoch 83/100\n",
            "484/484 [==============================] - 13s 26ms/step - loss: 1.3572 - accuracy: 0.7677\n",
            "Epoch 84/100\n",
            "484/484 [==============================] - 13s 26ms/step - loss: 1.3345 - accuracy: 0.7720\n",
            "Epoch 85/100\n",
            "484/484 [==============================] - 13s 26ms/step - loss: 1.3257 - accuracy: 0.7718\n",
            "Epoch 86/100\n",
            "484/484 [==============================] - 12s 26ms/step - loss: 1.3001 - accuracy: 0.7779\n",
            "Epoch 87/100\n",
            "484/484 [==============================] - 13s 26ms/step - loss: 1.3010 - accuracy: 0.7765\n",
            "Epoch 88/100\n",
            "484/484 [==============================] - 13s 26ms/step - loss: 1.2702 - accuracy: 0.7847\n",
            "Epoch 89/100\n",
            "484/484 [==============================] - 13s 26ms/step - loss: 1.2531 - accuracy: 0.7886\n",
            "Epoch 90/100\n",
            "484/484 [==============================] - 13s 27ms/step - loss: 1.2564 - accuracy: 0.7835\n",
            "Epoch 91/100\n",
            "484/484 [==============================] - 13s 26ms/step - loss: 1.2383 - accuracy: 0.7887\n",
            "Epoch 92/100\n",
            "484/484 [==============================] - 13s 26ms/step - loss: 1.2320 - accuracy: 0.7846\n",
            "Epoch 93/100\n",
            "484/484 [==============================] - 12s 26ms/step - loss: 1.2224 - accuracy: 0.7872\n",
            "Epoch 94/100\n",
            "484/484 [==============================] - 12s 26ms/step - loss: 1.2142 - accuracy: 0.7902\n",
            "Epoch 95/100\n",
            "484/484 [==============================] - 12s 26ms/step - loss: 1.1946 - accuracy: 0.7929\n",
            "Epoch 96/100\n",
            "484/484 [==============================] - 12s 26ms/step - loss: 1.1903 - accuracy: 0.7941\n",
            "Epoch 97/100\n",
            "484/484 [==============================] - 12s 26ms/step - loss: 1.1759 - accuracy: 0.7979\n",
            "Epoch 98/100\n",
            "484/484 [==============================] - 12s 26ms/step - loss: 1.1568 - accuracy: 0.8018\n",
            "Epoch 99/100\n",
            "484/484 [==============================] - 12s 26ms/step - loss: 1.1644 - accuracy: 0.7958\n",
            "Epoch 100/100\n",
            "484/484 [==============================] - 12s 26ms/step - loss: 1.1549 - accuracy: 0.8000\n"
          ],
          "name": "stdout"
        }
      ]
    },
    {
      "cell_type": "code",
      "metadata": {
        "colab_type": "code",
        "id": "1fXTEO3GJ282",
        "colab": {
          "base_uri": "https://localhost:8080/",
          "height": 545
        },
        "outputId": "8d80dfa5-de07-442d-a86f-042ffc543b25"
      },
      "source": [
        "import matplotlib.pyplot as plt\n",
        "acc = history.history['accuracy']\n",
        "loss = history.history['loss']\n",
        "\n",
        "epochs = range(len(acc))\n",
        "\n",
        "plt.plot(epochs, acc, 'b', label='Training accuracy')\n",
        "plt.title('Training accuracy')\n",
        "\n",
        "plt.figure()\n",
        "\n",
        "plt.plot(epochs, loss, 'b', label='Training Loss')\n",
        "plt.title('Training loss')\n",
        "plt.legend()\n",
        "\n",
        "plt.show()"
      ],
      "execution_count": 6,
      "outputs": [
        {
          "output_type": "display_data",
          "data": {
            "image/png": "[encoded data removed]",
            "text/plain": [
              "<Figure size 432x288 with 1 Axes>"
            ]
          },
          "metadata": {
            "tags": [],
            "needs_background": "light"
          }
        },
        {
          "output_type": "display_data",
          "data": {
            "image/png": "[encoded data removed]",
            "text/plain": [
              "<Figure size 432x288 with 1 Axes>"
            ]
          },
          "metadata": {
            "tags": [],
            "needs_background": "light"
          }
        }
      ]
    },
    {
      "cell_type": "code",
      "metadata": {
        "colab_type": "code",
        "id": "6Vc6PHgxa6Hm",
        "colab": {
          "base_uri": "https://localhost:8080/",
          "height": 105
        },
        "outputId": "9e618ff4-7790-48f7-9a02-f0bf04824b98"
      },
      "source": [
        "seed_text = \"Help me Obi Wan Kenobi, you're my only hope\"\n",
        "next_words = 100\n",
        "  \n",
        "for _ in range(next_words):\n",
        "\ttoken_list = tokenizer.texts_to_sequences([seed_text])[0]\n",
        "\ttoken_list = pad_sequences([token_list], maxlen=max_sequence_len-1, padding='pre')\n",
        "\tpredicted = model.predict_classes(token_list, verbose=0)\n",
        "\toutput_word = \"\"\n",
        "\tfor word, index in tokenizer.word_index.items():\n",
        "\t\tif index == predicted:\n",
        "\t\t\toutput_word = word\n",
        "\t\t\tbreak\n",
        "\tseed_text += \" \" + output_word\n",
        "print(seed_text)"
      ],
      "execution_count": 7,
      "outputs": [
        {
          "output_type": "stream",
          "text": [
            "WARNING:tensorflow:From <ipython-input-7-622d307fa19a>:7: Sequential.predict_classes (from tensorflow.python.keras.engine.sequential) is deprecated and will be removed after 2021-01-01.\n",
            "Instructions for updating:\n",
            "Please use instead:* `np.argmax(model.predict(x), axis=-1)`,   if your model does multi-class classification   (e.g. if it uses a `softmax` last-layer activation).* `(model.predict(x) > 0.5).astype(\"int32\")`,   if your model does binary classification   (e.g. if it uses a `sigmoid` last-layer activation).\n",
            "Help me Obi Wan Kenobi, you're my only hope tied to thyself dost approve her delight fitted end behind mother appear afford afford rehearse depend rehearse another meetness age ' acquainted some dead free free last was some bright ' shines releasing now done thee done thee be so dumb men rare junes plea bred free taken halt afford afford afford prove her hate still hate still acquainted tend shown done see so bad thou worms see doubt best best green true lie with not from my sight had hate lies 'will ' quite dun rehearse sweetness tell me now some store so pain thee thee me thine hate\n"
          ],
          "name": "stdout"
        }
      ]
    }
  ]
}