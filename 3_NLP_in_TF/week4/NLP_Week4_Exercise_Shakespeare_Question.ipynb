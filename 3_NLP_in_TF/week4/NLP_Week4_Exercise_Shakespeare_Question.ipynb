{
  "nbformat": 4,
  "nbformat_minor": 0,
  "metadata": {
    "accelerator": "GPU",
    "colab": {
      "name": "NLP_Week4_Exercise_Shakespeare_Question.ipynb",
      "provenance": []
    },
    "kernelspec": {
      "display_name": "Python 3",
      "name": "python3"
    }
  },
  "cells": [
    {
      "cell_type": "code",
      "metadata": {
        "id": "zX4Kg8DUTKWO",
        "colab_type": "code",
        "colab": {}
      },
      "source": [
        "#@title Licensed under the Apache License, Version 2.0 (the \"License\");\n",
        "# you may not use this file except in compliance with the License.\n",
        "# You may obtain a copy of the License at\n",
        "#\n",
        "# https://www.apache.org/licenses/LICENSE-2.0\n",
        "#\n",
        "# Unless required by applicable law or agreed to in writing, software\n",
        "# distributed under the License is distributed on an \"AS IS\" BASIS,\n",
        "# WITHOUT WARRANTIES OR CONDITIONS OF ANY KIND, either express or implied.\n",
        "# See the License for the specific language governing permissions and\n",
        "# limitations under the License."
      ],
      "execution_count": 1,
      "outputs": []
    },
    {
      "cell_type": "code",
      "metadata": {
        "colab_type": "code",
        "id": "BOwsuGQQY9OL",
        "colab": {}
      },
      "source": [
        "from tensorflow.keras.preprocessing.sequence import pad_sequences\n",
        "from tensorflow.keras.layers import Embedding, LSTM, Dense, Dropout, Bidirectional\n",
        "from tensorflow.keras.preprocessing.text import Tokenizer\n",
        "from tensorflow.keras.models import Sequential\n",
        "from tensorflow.keras.optimizers import Adam\n",
        "### YOUR CODE HERE\n",
        "from tensorflow.keras.regularizers import L1, L2\n",
        "# Figure out how to import regularizers\n",
        "###\n",
        "import tensorflow.keras.utils as ku \n",
        "import numpy as np "
      ],
      "execution_count": 2,
      "outputs": []
    },
    {
      "cell_type": "code",
      "metadata": {
        "colab_type": "code",
        "id": "PRnDnCW-Z7qv",
        "colab": {
          "base_uri": "https://localhost:8080/",
          "height": 224
        },
        "outputId": "abdcece0-5644-4212-d18b-4b1a98173e43"
      },
      "source": [
        "tokenizer = Tokenizer()\n",
        "!wget --no-check-certificate \\\n",
        "    https://storage.googleapis.com/laurencemoroney-blog.appspot.com/sonnets.txt \\\n",
        "    -O /tmp/sonnets.txt\n",
        "data = open('/tmp/sonnets.txt').read()\n",
        "\n",
        "corpus = data.lower().split(\"\\n\")\n",
        "\n",
        "\n",
        "tokenizer.fit_on_texts(corpus)\n",
        "total_words = len(tokenizer.word_index) + 1\n",
        "\n",
        "# create input sequences using list of tokens\n",
        "input_sequences = []\n",
        "for line in corpus:\n",
        "\ttoken_list = tokenizer.texts_to_sequences([line])[0]\n",
        "\tfor i in range(1, len(token_list)):\n",
        "\t\tn_gram_sequence = token_list[:i+1]\n",
        "\t\tinput_sequences.append(n_gram_sequence)\n",
        "\n",
        "\n",
        "# pad sequences \n",
        "max_sequence_len = max([len(x) for x in input_sequences])\n",
        "input_sequences = np.array(pad_sequences(input_sequences, maxlen=max_sequence_len, padding='pre'))\n",
        "\n",
        "# create predictors and label\n",
        "predictors, label = input_sequences[:,:-1],input_sequences[:,-1]\n",
        "\n",
        "label = ku.to_categorical(label, num_classes=total_words)"
      ],
      "execution_count": 3,
      "outputs": [
        {
          "output_type": "stream",
          "text": [
            "--2020-08-19 05:08:27--  https://storage.googleapis.com/laurencemoroney-blog.appspot.com/sonnets.txt\n",
            "Resolving storage.googleapis.com (storage.googleapis.com)... 74.125.142.128, 74.125.195.128, 74.125.20.128, ...\n",
            "Connecting to storage.googleapis.com (storage.googleapis.com)|74.125.142.128|:443... connected.\n",
            "HTTP request sent, awaiting response... 200 OK\n",
            "Length: 93578 (91K) [text/plain]\n",
            "Saving to: ‘/tmp/sonnets.txt’\n",
            "\n",
            "\r/tmp/sonnets.txt      0%[                    ]       0  --.-KB/s               \r/tmp/sonnets.txt    100%[===================>]  91.38K  --.-KB/s    in 0.001s  \n",
            "\n",
            "2020-08-19 05:08:27 (143 MB/s) - ‘/tmp/sonnets.txt’ saved [93578/93578]\n",
            "\n"
          ],
          "name": "stdout"
        }
      ]
    },
    {
      "cell_type": "code",
      "metadata": {
        "colab_type": "code",
        "id": "w9vH8Y59ajYL",
        "colab": {
          "base_uri": "https://localhost:8080/",
          "height": 374
        },
        "outputId": "58aca8d7-56f3-46f9-8303-ef66d545480d"
      },
      "source": [
        "model = Sequential()\n",
        "model.add(Embedding(total_words, 100, input_length=max_sequence_len-1))# Your Embedding Layer)\n",
        "model.add(Bidirectional(LSTM(150, return_sequences=True)))# An LSTM Layer)\n",
        "model.add(Dropout(0.2))# A dropout layer)\n",
        "model.add(LSTM(100))# Another LSTM Layer)\n",
        "model.add(Dense(total_words/2, activation='relu', kernel_regularizer=L1(0.01), activity_regularizer=L2(0.01)))# A Dense Layer including regularizers)\n",
        "model.add(Dense(total_words, activation='softmax'))\n",
        "# Pick an optimizer\n",
        "adam = Adam(lr=0.01)\n",
        "model.compile(loss='categorical_crossentropy', optimizer=adam, metrics=['accuracy'])# Pick a loss function and an optimizer)\n",
        "print(model.summary())\n"
      ],
      "execution_count": 4,
      "outputs": [
        {
          "output_type": "stream",
          "text": [
            "Model: \"sequential\"\n",
            "_________________________________________________________________\n",
            "Layer (type)                 Output Shape              Param #   \n",
            "=================================================================\n",
            "embedding (Embedding)        (None, 10, 100)           321100    \n",
            "_________________________________________________________________\n",
            "bidirectional (Bidirectional (None, 10, 300)           301200    \n",
            "_________________________________________________________________\n",
            "dropout (Dropout)            (None, 10, 300)           0         \n",
            "_________________________________________________________________\n",
            "lstm_1 (LSTM)                (None, 100)               160400    \n",
            "_________________________________________________________________\n",
            "dense (Dense)                (None, 1605)              162105    \n",
            "_________________________________________________________________\n",
            "dense_1 (Dense)              (None, 3211)              5156866   \n",
            "=================================================================\n",
            "Total params: 6,101,671\n",
            "Trainable params: 6,101,671\n",
            "Non-trainable params: 0\n",
            "_________________________________________________________________\n",
            "None\n"
          ],
          "name": "stdout"
        }
      ]
    },
    {
      "cell_type": "code",
      "metadata": {
        "colab_type": "code",
        "id": "AIg2f1HBxqof",
        "colab": {
          "base_uri": "https://localhost:8080/",
          "height": 1000
        },
        "outputId": "5451a753-ca12-4549-9477-087f61f961c4"
      },
      "source": [
        " history = model.fit(predictors, label, epochs=100, verbose=1)"
      ],
      "execution_count": 5,
      "outputs": [
        {
          "output_type": "stream",
          "text": [
            "Epoch 1/100\n",
            "484/484 [==============================] - 6s 12ms/step - loss: 9.3701 - accuracy: 0.0221\n",
            "Epoch 2/100\n",
            "484/484 [==============================] - 6s 12ms/step - loss: 8.4997 - accuracy: 0.0222\n",
            "Epoch 3/100\n",
            "484/484 [==============================] - 6s 12ms/step - loss: 8.4632 - accuracy: 0.0236\n",
            "Epoch 4/100\n",
            "484/484 [==============================] - 6s 12ms/step - loss: 8.4153 - accuracy: 0.0255\n",
            "Epoch 5/100\n",
            "484/484 [==============================] - 6s 12ms/step - loss: 8.3791 - accuracy: 0.0298\n",
            "Epoch 6/100\n",
            "484/484 [==============================] - 6s 12ms/step - loss: 8.3558 - accuracy: 0.0295\n",
            "Epoch 7/100\n",
            "484/484 [==============================] - 6s 13ms/step - loss: 8.3317 - accuracy: 0.0294\n",
            "Epoch 8/100\n",
            "484/484 [==============================] - 6s 13ms/step - loss: 8.3155 - accuracy: 0.0288\n",
            "Epoch 9/100\n",
            "484/484 [==============================] - 6s 13ms/step - loss: 8.3061 - accuracy: 0.0314\n",
            "Epoch 10/100\n",
            "484/484 [==============================] - 6s 13ms/step - loss: 8.2883 - accuracy: 0.0290\n",
            "Epoch 11/100\n",
            "484/484 [==============================] - 6s 12ms/step - loss: 8.2782 - accuracy: 0.0312\n",
            "Epoch 12/100\n",
            "484/484 [==============================] - 6s 12ms/step - loss: 8.2691 - accuracy: 0.0318\n",
            "Epoch 13/100\n",
            "484/484 [==============================] - 6s 12ms/step - loss: 8.2781 - accuracy: 0.0308\n",
            "Epoch 14/100\n",
            "484/484 [==============================] - 6s 12ms/step - loss: 8.2940 - accuracy: 0.0290\n",
            "Epoch 15/100\n",
            "484/484 [==============================] - 6s 12ms/step - loss: 8.3084 - accuracy: 0.0294\n",
            "Epoch 16/100\n",
            "484/484 [==============================] - 6s 12ms/step - loss: 8.2799 - accuracy: 0.0322\n",
            "Epoch 17/100\n",
            "484/484 [==============================] - 6s 12ms/step - loss: 8.2807 - accuracy: 0.0323\n",
            "Epoch 18/100\n",
            "484/484 [==============================] - 6s 12ms/step - loss: 8.2645 - accuracy: 0.0309\n",
            "Epoch 19/100\n",
            "484/484 [==============================] - 6s 12ms/step - loss: 8.2520 - accuracy: 0.0319\n",
            "Epoch 20/100\n",
            "484/484 [==============================] - 6s 12ms/step - loss: 8.2439 - accuracy: 0.0329\n",
            "Epoch 21/100\n",
            "484/484 [==============================] - 6s 12ms/step - loss: 8.2156 - accuracy: 0.0319\n",
            "Epoch 22/100\n",
            "484/484 [==============================] - 6s 12ms/step - loss: 8.1906 - accuracy: 0.0329\n",
            "Epoch 23/100\n",
            "484/484 [==============================] - 6s 12ms/step - loss: 8.1827 - accuracy: 0.0352\n",
            "Epoch 24/100\n",
            "484/484 [==============================] - 6s 12ms/step - loss: 8.1695 - accuracy: 0.0344\n",
            "Epoch 25/100\n",
            "484/484 [==============================] - 6s 12ms/step - loss: 8.1581 - accuracy: 0.0343\n",
            "Epoch 26/100\n",
            "484/484 [==============================] - 6s 13ms/step - loss: 8.1435 - accuracy: 0.0357\n",
            "Epoch 27/100\n",
            "484/484 [==============================] - 6s 12ms/step - loss: 8.1263 - accuracy: 0.0354\n",
            "Epoch 28/100\n",
            "484/484 [==============================] - 6s 13ms/step - loss: 8.1209 - accuracy: 0.0376\n",
            "Epoch 29/100\n",
            "484/484 [==============================] - 6s 13ms/step - loss: 8.1212 - accuracy: 0.0362\n",
            "Epoch 30/100\n",
            "484/484 [==============================] - 6s 12ms/step - loss: 8.1255 - accuracy: 0.0384\n",
            "Epoch 31/100\n",
            "484/484 [==============================] - 6s 12ms/step - loss: 8.1094 - accuracy: 0.0384\n",
            "Epoch 32/100\n",
            "484/484 [==============================] - 6s 12ms/step - loss: 8.0893 - accuracy: 0.0374\n",
            "Epoch 33/100\n",
            "484/484 [==============================] - 6s 12ms/step - loss: 8.0874 - accuracy: 0.0382\n",
            "Epoch 34/100\n",
            "484/484 [==============================] - 6s 12ms/step - loss: 8.0818 - accuracy: 0.0398\n",
            "Epoch 35/100\n",
            "484/484 [==============================] - 6s 12ms/step - loss: 8.0699 - accuracy: 0.0404\n",
            "Epoch 36/100\n",
            "484/484 [==============================] - 6s 12ms/step - loss: 8.0610 - accuracy: 0.0389\n",
            "Epoch 37/100\n",
            "484/484 [==============================] - 6s 12ms/step - loss: 8.0452 - accuracy: 0.0402\n",
            "Epoch 38/100\n",
            "484/484 [==============================] - 6s 12ms/step - loss: 8.0522 - accuracy: 0.0403\n",
            "Epoch 39/100\n",
            "484/484 [==============================] - 6s 12ms/step - loss: 8.0391 - accuracy: 0.0406\n",
            "Epoch 40/100\n",
            "484/484 [==============================] - 6s 12ms/step - loss: 8.0286 - accuracy: 0.0391\n",
            "Epoch 41/100\n",
            "484/484 [==============================] - 6s 12ms/step - loss: 8.0261 - accuracy: 0.0426\n",
            "Epoch 42/100\n",
            "484/484 [==============================] - 6s 12ms/step - loss: 8.0206 - accuracy: 0.0407\n",
            "Epoch 43/100\n",
            "484/484 [==============================] - 6s 11ms/step - loss: 8.0070 - accuracy: 0.0426\n",
            "Epoch 44/100\n",
            "484/484 [==============================] - 6s 12ms/step - loss: 8.0125 - accuracy: 0.0413\n",
            "Epoch 45/100\n",
            "484/484 [==============================] - 6s 12ms/step - loss: 8.0054 - accuracy: 0.0433\n",
            "Epoch 46/100\n",
            "484/484 [==============================] - 6s 12ms/step - loss: 8.0062 - accuracy: 0.0414\n",
            "Epoch 47/100\n",
            "484/484 [==============================] - 6s 12ms/step - loss: 7.9977 - accuracy: 0.0432\n",
            "Epoch 48/100\n",
            "484/484 [==============================] - 6s 12ms/step - loss: 7.9933 - accuracy: 0.0409\n",
            "Epoch 49/100\n",
            "484/484 [==============================] - 6s 12ms/step - loss: 7.9901 - accuracy: 0.0448\n",
            "Epoch 50/100\n",
            "484/484 [==============================] - 6s 12ms/step - loss: 7.9828 - accuracy: 0.0449\n",
            "Epoch 51/100\n",
            "484/484 [==============================] - 6s 12ms/step - loss: 7.9935 - accuracy: 0.0439\n",
            "Epoch 52/100\n",
            "484/484 [==============================] - 6s 12ms/step - loss: 7.9784 - accuracy: 0.0434\n",
            "Epoch 53/100\n",
            "484/484 [==============================] - 6s 12ms/step - loss: 7.9740 - accuracy: 0.0443\n",
            "Epoch 54/100\n",
            "484/484 [==============================] - 6s 12ms/step - loss: 7.9688 - accuracy: 0.0432\n",
            "Epoch 55/100\n",
            "484/484 [==============================] - 6s 12ms/step - loss: 7.9703 - accuracy: 0.0431\n",
            "Epoch 56/100\n",
            "484/484 [==============================] - 6s 12ms/step - loss: 7.9669 - accuracy: 0.0433\n",
            "Epoch 57/100\n",
            "484/484 [==============================] - 6s 12ms/step - loss: 7.9671 - accuracy: 0.0443\n",
            "Epoch 58/100\n",
            "484/484 [==============================] - 6s 12ms/step - loss: 7.9603 - accuracy: 0.0431\n",
            "Epoch 59/100\n",
            "484/484 [==============================] - 6s 12ms/step - loss: 7.9709 - accuracy: 0.0443\n",
            "Epoch 60/100\n",
            "484/484 [==============================] - 6s 12ms/step - loss: 7.9527 - accuracy: 0.0442\n",
            "Epoch 61/100\n",
            "484/484 [==============================] - 6s 12ms/step - loss: 7.9558 - accuracy: 0.0438\n",
            "Epoch 62/100\n",
            "484/484 [==============================] - 6s 12ms/step - loss: 7.9488 - accuracy: 0.0451\n",
            "Epoch 63/100\n",
            "484/484 [==============================] - 6s 12ms/step - loss: 7.9517 - accuracy: 0.0449\n",
            "Epoch 64/100\n",
            "484/484 [==============================] - 6s 12ms/step - loss: 7.9383 - accuracy: 0.0449\n",
            "Epoch 65/100\n",
            "484/484 [==============================] - 6s 12ms/step - loss: 7.9427 - accuracy: 0.0473\n",
            "Epoch 66/100\n",
            "484/484 [==============================] - 6s 12ms/step - loss: 7.9344 - accuracy: 0.0462\n",
            "Epoch 67/100\n",
            "484/484 [==============================] - 6s 12ms/step - loss: 7.9320 - accuracy: 0.0472\n",
            "Epoch 68/100\n",
            "484/484 [==============================] - 6s 12ms/step - loss: 7.9317 - accuracy: 0.0460\n",
            "Epoch 69/100\n",
            "484/484 [==============================] - 6s 12ms/step - loss: 7.9281 - accuracy: 0.0468\n",
            "Epoch 70/100\n",
            "484/484 [==============================] - 5s 11ms/step - loss: 7.9281 - accuracy: 0.0462\n",
            "Epoch 71/100\n",
            "484/484 [==============================] - 6s 12ms/step - loss: 7.9163 - accuracy: 0.0481\n",
            "Epoch 72/100\n",
            "484/484 [==============================] - 6s 12ms/step - loss: 7.9194 - accuracy: 0.0442\n",
            "Epoch 73/100\n",
            "484/484 [==============================] - 6s 12ms/step - loss: 7.9220 - accuracy: 0.0472\n",
            "Epoch 74/100\n",
            "484/484 [==============================] - 6s 11ms/step - loss: 7.9294 - accuracy: 0.0458\n",
            "Epoch 75/100\n",
            "484/484 [==============================] - 6s 12ms/step - loss: 7.9156 - accuracy: 0.0458\n",
            "Epoch 76/100\n",
            "484/484 [==============================] - 6s 12ms/step - loss: 7.9223 - accuracy: 0.0460\n",
            "Epoch 77/100\n",
            "484/484 [==============================] - 6s 12ms/step - loss: 7.9224 - accuracy: 0.0467\n",
            "Epoch 78/100\n",
            "484/484 [==============================] - 6s 11ms/step - loss: 7.9240 - accuracy: 0.0477\n",
            "Epoch 79/100\n",
            "484/484 [==============================] - 6s 12ms/step - loss: 7.9083 - accuracy: 0.0470\n",
            "Epoch 80/100\n",
            "484/484 [==============================] - 6s 12ms/step - loss: 7.9103 - accuracy: 0.0453\n",
            "Epoch 81/100\n",
            "484/484 [==============================] - 6s 12ms/step - loss: 7.9261 - accuracy: 0.0466\n",
            "Epoch 82/100\n",
            "484/484 [==============================] - 6s 12ms/step - loss: 7.9176 - accuracy: 0.0466\n",
            "Epoch 83/100\n",
            "484/484 [==============================] - 6s 12ms/step - loss: 7.9216 - accuracy: 0.0475\n",
            "Epoch 84/100\n",
            "484/484 [==============================] - 6s 12ms/step - loss: 7.9230 - accuracy: 0.0464\n",
            "Epoch 85/100\n",
            "484/484 [==============================] - 6s 12ms/step - loss: 7.9169 - accuracy: 0.0460\n",
            "Epoch 86/100\n",
            "484/484 [==============================] - 6s 12ms/step - loss: 7.9174 - accuracy: 0.0488\n",
            "Epoch 87/100\n",
            "484/484 [==============================] - 6s 12ms/step - loss: 7.9103 - accuracy: 0.0488\n",
            "Epoch 88/100\n",
            "484/484 [==============================] - 6s 11ms/step - loss: 7.9215 - accuracy: 0.0468\n",
            "Epoch 89/100\n",
            "484/484 [==============================] - 6s 12ms/step - loss: 7.9014 - accuracy: 0.0471\n",
            "Epoch 90/100\n",
            "484/484 [==============================] - 6s 12ms/step - loss: 7.9113 - accuracy: 0.0476\n",
            "Epoch 91/100\n",
            "484/484 [==============================] - 6s 12ms/step - loss: 7.8951 - accuracy: 0.0467\n",
            "Epoch 92/100\n",
            "484/484 [==============================] - 6s 12ms/step - loss: 7.9028 - accuracy: 0.0463\n",
            "Epoch 93/100\n",
            "484/484 [==============================] - 6s 12ms/step - loss: 7.9154 - accuracy: 0.0464\n",
            "Epoch 94/100\n",
            "484/484 [==============================] - 6s 12ms/step - loss: 7.9112 - accuracy: 0.0498\n",
            "Epoch 95/100\n",
            "484/484 [==============================] - 6s 11ms/step - loss: 7.8973 - accuracy: 0.0492\n",
            "Epoch 96/100\n",
            "484/484 [==============================] - 6s 11ms/step - loss: 7.8924 - accuracy: 0.0490\n",
            "Epoch 97/100\n",
            "484/484 [==============================] - 6s 12ms/step - loss: 7.8888 - accuracy: 0.0486\n",
            "Epoch 98/100\n",
            "484/484 [==============================] - 6s 12ms/step - loss: 7.8977 - accuracy: 0.0486\n",
            "Epoch 99/100\n",
            "484/484 [==============================] - 6s 12ms/step - loss: 7.9003 - accuracy: 0.0495\n",
            "Epoch 100/100\n",
            "484/484 [==============================] - 6s 11ms/step - loss: 7.8981 - accuracy: 0.0488\n"
          ],
          "name": "stdout"
        }
      ]
    },
    {
      "cell_type": "code",
      "metadata": {
        "colab_type": "code",
        "id": "1fXTEO3GJ282",
        "colab": {
          "base_uri": "https://localhost:8080/",
          "height": 545
        },
        "outputId": "76197bb1-2555-4d1c-acc7-882fa1ed4882"
      },
      "source": [
        "import matplotlib.pyplot as plt\n",
        "acc = history.history['accuracy']\n",
        "loss = history.history['loss']\n",
        "\n",
        "epochs = range(len(acc))\n",
        "\n",
        "plt.plot(epochs, acc, 'b', label='Training accuracy')\n",
        "plt.title('Training accuracy')\n",
        "\n",
        "plt.figure()\n",
        "\n",
        "plt.plot(epochs, loss, 'b', label='Training Loss')\n",
        "plt.title('Training loss')\n",
        "plt.legend()\n",
        "\n",
        "plt.show()"
      ],
      "execution_count": 6,
      "outputs": [
        {
          "output_type": "display_data",
          "data": {
            "image/png": "[encoded data removed]",
            "text/plain": [
              "<Figure size 432x288 with 1 Axes>"
            ]
          },
          "metadata": {
            "tags": [],
            "needs_background": "light"
          }
        },
        {
          "output_type": "display_data",
          "data": {
            "image/png": "[encoded data removed]",
            "text/plain": [
              "<Figure size 432x288 with 1 Axes>"
            ]
          },
          "metadata": {
            "tags": [],
            "needs_background": "light"
          }
        }
      ]
    },
    {
      "cell_type": "code",
      "metadata": {
        "colab_type": "code",
        "id": "6Vc6PHgxa6Hm",
        "colab": {
          "base_uri": "https://localhost:8080/",
          "height": 54
        },
        "outputId": "7968d14f-13e7-4309-d6ea-75d40baa23dc"
      },
      "source": [
        "seed_text = \"Help me Obi Wan Kenobi, you're my only hope\"\n",
        "next_words = 100\n",
        "  \n",
        "for _ in range(next_words):\n",
        "\ttoken_list = tokenizer.texts_to_sequences([seed_text])[0]\n",
        "\ttoken_list = pad_sequences([token_list], maxlen=max_sequence_len-1, padding='pre')\n",
        "\tpredicted = model.predict_classes(token_list, verbose=0)\n",
        "\toutput_word = \"\"\n",
        "\tfor word, index in tokenizer.word_index.items():\n",
        "\t\tif index == predicted:\n",
        "\t\t\toutput_word = word\n",
        "\t\t\tbreak\n",
        "\tseed_text += \" \" + output_word\n",
        "print(seed_text)"
      ],
      "execution_count": 8,
      "outputs": [
        {
          "output_type": "stream",
          "text": [
            "Help me Obi Wan Kenobi, you're my only hope my love the love of my love the love to be in the love of my love the love to be in the love of my love the love to be in the love of my love the love to be in the love of my love the love to be in the love of my love the love to be in the love of my love the love to be in the love of my love the love to be in the love of my love the love to be in the love of my love the love to\n"
          ],
          "name": "stdout"
        }
      ]
    }
  ]
}