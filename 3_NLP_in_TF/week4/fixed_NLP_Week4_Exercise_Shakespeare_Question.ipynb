{
  "nbformat": 4,
  "nbformat_minor": 0,
  "metadata": {
    "accelerator": "GPU",
    "colab": {
      "name": "NLP_Week4_Exercise_Shakespeare_Question.ipynb",
      "provenance": []
    },
    "kernelspec": {
      "display_name": "Python 3",
      "name": "python3"
    }
  },
  "cells": [
    {
      "cell_type": "code",
      "metadata": {
        "id": "zX4Kg8DUTKWO",
        "colab_type": "code",
        "colab": {}
      },
      "source": [
        "#@title Licensed under the Apache License, Version 2.0 (the \"License\");\n",
        "# you may not use this file except in compliance with the License.\n",
        "# You may obtain a copy of the License at\n",
        "#\n",
        "# https://www.apache.org/licenses/LICENSE-2.0\n",
        "#\n",
        "# Unless required by applicable law or agreed to in writing, software\n",
        "# distributed under the License is distributed on an \"AS IS\" BASIS,\n",
        "# WITHOUT WARRANTIES OR CONDITIONS OF ANY KIND, either express or implied.\n",
        "# See the License for the specific language governing permissions and\n",
        "# limitations under the License."
      ],
      "execution_count": 1,
      "outputs": []
    },
    {
      "cell_type": "code",
      "metadata": {
        "colab_type": "code",
        "id": "BOwsuGQQY9OL",
        "colab": {}
      },
      "source": [
        "from tensorflow.keras.preprocessing.sequence import pad_sequences\n",
        "from tensorflow.keras.layers import Embedding, LSTM, Dense, Dropout, Bidirectional\n",
        "from tensorflow.keras.preprocessing.text import Tokenizer\n",
        "from tensorflow.keras.models import Sequential\n",
        "from tensorflow.keras.optimizers import Adam\n",
        "### YOUR CODE HERE\n",
        "from tensorflow.keras import regularizers\n",
        "# Figure out how to import regularizers\n",
        "###\n",
        "import tensorflow.keras.utils as ku \n",
        "import numpy as np "
      ],
      "execution_count": 2,
      "outputs": []
    },
    {
      "cell_type": "code",
      "metadata": {
        "colab_type": "code",
        "id": "PRnDnCW-Z7qv",
        "colab": {
          "base_uri": "https://localhost:8080/",
          "height": 224
        },
        "outputId": "068c2779-f2e9-45d9-d0a8-61cc15f1208c"
      },
      "source": [
        "tokenizer = Tokenizer()\n",
        "!wget --no-check-certificate \\\n",
        "    https://storage.googleapis.com/laurencemoroney-blog.appspot.com/sonnets.txt \\\n",
        "    -O /tmp/sonnets.txt\n",
        "data = open('/tmp/sonnets.txt').read()\n",
        "\n",
        "corpus = data.lower().split(\"\\n\")\n",
        "\n",
        "\n",
        "tokenizer.fit_on_texts(corpus)\n",
        "total_words = len(tokenizer.word_index) + 1\n",
        "\n",
        "# create input sequences using list of tokens\n",
        "input_sequences = []\n",
        "for line in corpus:\n",
        "\ttoken_list = tokenizer.texts_to_sequences([line])[0]\n",
        "\tfor i in range(1, len(token_list)):\n",
        "\t\tn_gram_sequence = token_list[:i+1]\n",
        "\t\tinput_sequences.append(n_gram_sequence)\n",
        "\n",
        "\n",
        "# pad sequences \n",
        "max_sequence_len = max([len(x) for x in input_sequences])\n",
        "input_sequences = np.array(pad_sequences(input_sequences, maxlen=max_sequence_len, padding='pre'))\n",
        "\n",
        "# create predictors and label\n",
        "predictors, label = input_sequences[:,:-1],input_sequences[:,-1]\n",
        "\n",
        "label = ku.to_categorical(label, num_classes=total_words)"
      ],
      "execution_count": 3,
      "outputs": [
        {
          "output_type": "stream",
          "text": [
            "--2020-08-19 05:48:55--  https://storage.googleapis.com/laurencemoroney-blog.appspot.com/sonnets.txt\n",
            "Resolving storage.googleapis.com (storage.googleapis.com)... 108.177.125.128, 74.125.23.128, 74.125.203.128, ...\n",
            "Connecting to storage.googleapis.com (storage.googleapis.com)|108.177.125.128|:443... connected.\n",
            "HTTP request sent, awaiting response... 200 OK\n",
            "Length: 93578 (91K) [text/plain]\n",
            "Saving to: ‘/tmp/sonnets.txt’\n",
            "\n",
            "\r/tmp/sonnets.txt      0%[                    ]       0  --.-KB/s               \r/tmp/sonnets.txt    100%[===================>]  91.38K  --.-KB/s    in 0.001s  \n",
            "\n",
            "2020-08-19 05:48:55 (99.0 MB/s) - ‘/tmp/sonnets.txt’ saved [93578/93578]\n",
            "\n"
          ],
          "name": "stdout"
        }
      ]
    },
    {
      "cell_type": "code",
      "metadata": {
        "colab_type": "code",
        "id": "w9vH8Y59ajYL",
        "colab": {
          "base_uri": "https://localhost:8080/",
          "height": 374
        },
        "outputId": "7c950a0b-9e43-46bb-d00b-7503cbcff587"
      },
      "source": [
        "model = Sequential()\n",
        "model.add(Embedding(total_words, 100, input_length=max_sequence_len-1))\n",
        "model.add(Bidirectional(LSTM(150, return_sequences = True)))\n",
        "model.add(Dropout(0.2))\n",
        "model.add(LSTM(100))\n",
        "model.add(Dense(total_words/2, activation='relu', kernel_regularizer=regularizers.l2(0.01)))\n",
        "model.add(Dense(total_words, activation='softmax'))\n",
        "adam = Adam(lr=0.001)\n",
        "model.compile(loss='categorical_crossentropy', optimizer=adam, metrics=['accuracy'])\n",
        "print(model.summary())\n"
      ],
      "execution_count": 6,
      "outputs": [
        {
          "output_type": "stream",
          "text": [
            "Model: \"sequential_1\"\n",
            "_________________________________________________________________\n",
            "Layer (type)                 Output Shape              Param #   \n",
            "=================================================================\n",
            "embedding_1 (Embedding)      (None, 10, 100)           321100    \n",
            "_________________________________________________________________\n",
            "bidirectional_1 (Bidirection (None, 10, 300)           301200    \n",
            "_________________________________________________________________\n",
            "dropout_1 (Dropout)          (None, 10, 300)           0         \n",
            "_________________________________________________________________\n",
            "lstm_3 (LSTM)                (None, 100)               160400    \n",
            "_________________________________________________________________\n",
            "dense_2 (Dense)              (None, 1605)              162105    \n",
            "_________________________________________________________________\n",
            "dense_3 (Dense)              (None, 3211)              5156866   \n",
            "=================================================================\n",
            "Total params: 6,101,671\n",
            "Trainable params: 6,101,671\n",
            "Non-trainable params: 0\n",
            "_________________________________________________________________\n",
            "None\n"
          ],
          "name": "stdout"
        }
      ]
    },
    {
      "cell_type": "code",
      "metadata": {
        "colab_type": "code",
        "id": "AIg2f1HBxqof",
        "colab": {
          "base_uri": "https://localhost:8080/",
          "height": 1000
        },
        "outputId": "7be2c730-978d-4bfa-e5de-2d2186a67d11"
      },
      "source": [
        " history = model.fit(predictors, label, epochs=100, verbose=1)"
      ],
      "execution_count": 7,
      "outputs": [
        {
          "output_type": "stream",
          "text": [
            "Epoch 1/100\n",
            "484/484 [==============================] - 12s 26ms/step - loss: 6.9166 - accuracy: 0.0208\n",
            "Epoch 2/100\n",
            "484/484 [==============================] - 12s 26ms/step - loss: 6.4995 - accuracy: 0.0229\n",
            "Epoch 3/100\n",
            "484/484 [==============================] - 13s 26ms/step - loss: 6.4078 - accuracy: 0.0243\n",
            "Epoch 4/100\n",
            "484/484 [==============================] - 13s 26ms/step - loss: 6.2902 - accuracy: 0.0291\n",
            "Epoch 5/100\n",
            "484/484 [==============================] - 13s 26ms/step - loss: 6.1883 - accuracy: 0.0369\n",
            "Epoch 6/100\n",
            "484/484 [==============================] - 13s 26ms/step - loss: 6.1061 - accuracy: 0.0386\n",
            "Epoch 7/100\n",
            "484/484 [==============================] - 12s 26ms/step - loss: 6.0248 - accuracy: 0.0416\n",
            "Epoch 8/100\n",
            "484/484 [==============================] - 12s 26ms/step - loss: 5.9362 - accuracy: 0.0485\n",
            "Epoch 9/100\n",
            "484/484 [==============================] - 13s 26ms/step - loss: 5.8319 - accuracy: 0.0533\n",
            "Epoch 10/100\n",
            "484/484 [==============================] - 13s 26ms/step - loss: 5.7201 - accuracy: 0.0597\n",
            "Epoch 11/100\n",
            "484/484 [==============================] - 13s 26ms/step - loss: 5.6103 - accuracy: 0.0664\n",
            "Epoch 12/100\n",
            "484/484 [==============================] - 13s 26ms/step - loss: 5.5031 - accuracy: 0.0738\n",
            "Epoch 13/100\n",
            "484/484 [==============================] - 13s 26ms/step - loss: 5.3883 - accuracy: 0.0821\n",
            "Epoch 14/100\n",
            "484/484 [==============================] - 13s 26ms/step - loss: 5.2770 - accuracy: 0.0899\n",
            "Epoch 15/100\n",
            "484/484 [==============================] - 13s 26ms/step - loss: 5.1636 - accuracy: 0.0956\n",
            "Epoch 16/100\n",
            "484/484 [==============================] - 13s 26ms/step - loss: 5.0503 - accuracy: 0.1037\n",
            "Epoch 17/100\n",
            "484/484 [==============================] - 13s 27ms/step - loss: 4.9408 - accuracy: 0.1101\n",
            "Epoch 18/100\n",
            "484/484 [==============================] - 13s 26ms/step - loss: 4.8360 - accuracy: 0.1176\n",
            "Epoch 19/100\n",
            "484/484 [==============================] - 13s 26ms/step - loss: 4.7297 - accuracy: 0.1273\n",
            "Epoch 20/100\n",
            "484/484 [==============================] - 13s 26ms/step - loss: 4.6197 - accuracy: 0.1362\n",
            "Epoch 21/100\n",
            "484/484 [==============================] - 12s 26ms/step - loss: 4.5126 - accuracy: 0.1475\n",
            "Epoch 22/100\n",
            "484/484 [==============================] - 13s 26ms/step - loss: 4.4061 - accuracy: 0.1580\n",
            "Epoch 23/100\n",
            "484/484 [==============================] - 13s 26ms/step - loss: 4.2950 - accuracy: 0.1683\n",
            "Epoch 24/100\n",
            "484/484 [==============================] - 13s 26ms/step - loss: 4.1963 - accuracy: 0.1868\n",
            "Epoch 25/100\n",
            "484/484 [==============================] - 13s 26ms/step - loss: 4.0915 - accuracy: 0.1980\n",
            "Epoch 26/100\n",
            "484/484 [==============================] - 13s 26ms/step - loss: 3.9937 - accuracy: 0.2132\n",
            "Epoch 27/100\n",
            "484/484 [==============================] - 13s 26ms/step - loss: 3.8893 - accuracy: 0.2274\n",
            "Epoch 28/100\n",
            "484/484 [==============================] - 13s 26ms/step - loss: 3.7930 - accuracy: 0.2425\n",
            "Epoch 29/100\n",
            "484/484 [==============================] - 13s 26ms/step - loss: 3.7045 - accuracy: 0.2597\n",
            "Epoch 30/100\n",
            "484/484 [==============================] - 13s 26ms/step - loss: 3.6080 - accuracy: 0.2802\n",
            "Epoch 31/100\n",
            "484/484 [==============================] - 13s 26ms/step - loss: 3.5161 - accuracy: 0.2989\n",
            "Epoch 32/100\n",
            "484/484 [==============================] - 13s 26ms/step - loss: 3.4243 - accuracy: 0.3179\n",
            "Epoch 33/100\n",
            "484/484 [==============================] - 13s 26ms/step - loss: 3.3354 - accuracy: 0.3349\n",
            "Epoch 34/100\n",
            "484/484 [==============================] - 13s 26ms/step - loss: 3.2539 - accuracy: 0.3562\n",
            "Epoch 35/100\n",
            "484/484 [==============================] - 13s 26ms/step - loss: 3.1721 - accuracy: 0.3686\n",
            "Epoch 36/100\n",
            "484/484 [==============================] - 12s 26ms/step - loss: 3.0960 - accuracy: 0.3869\n",
            "Epoch 37/100\n",
            "484/484 [==============================] - 13s 26ms/step - loss: 3.0248 - accuracy: 0.4081\n",
            "Epoch 38/100\n",
            "484/484 [==============================] - 13s 26ms/step - loss: 2.9405 - accuracy: 0.4244\n",
            "Epoch 39/100\n",
            "484/484 [==============================] - 13s 26ms/step - loss: 2.8703 - accuracy: 0.4407\n",
            "Epoch 40/100\n",
            "484/484 [==============================] - 13s 26ms/step - loss: 2.8008 - accuracy: 0.4587\n",
            "Epoch 41/100\n",
            "484/484 [==============================] - 13s 26ms/step - loss: 2.7390 - accuracy: 0.4713\n",
            "Epoch 42/100\n",
            "484/484 [==============================] - 13s 27ms/step - loss: 2.6830 - accuracy: 0.4803\n",
            "Epoch 43/100\n",
            "484/484 [==============================] - 12s 26ms/step - loss: 2.6059 - accuracy: 0.5047\n",
            "Epoch 44/100\n",
            "484/484 [==============================] - 13s 26ms/step - loss: 2.5517 - accuracy: 0.5128\n",
            "Epoch 45/100\n",
            "484/484 [==============================] - 13s 26ms/step - loss: 2.4933 - accuracy: 0.5277\n",
            "Epoch 46/100\n",
            "484/484 [==============================] - 13s 26ms/step - loss: 2.4415 - accuracy: 0.5410\n",
            "Epoch 47/100\n",
            "484/484 [==============================] - 13s 26ms/step - loss: 2.3953 - accuracy: 0.5470\n",
            "Epoch 48/100\n",
            "484/484 [==============================] - 13s 26ms/step - loss: 2.3290 - accuracy: 0.5607\n",
            "Epoch 49/100\n",
            "484/484 [==============================] - 13s 27ms/step - loss: 2.2905 - accuracy: 0.5696\n",
            "Epoch 50/100\n",
            "484/484 [==============================] - 13s 27ms/step - loss: 2.2381 - accuracy: 0.5854\n",
            "Epoch 51/100\n",
            "484/484 [==============================] - 13s 27ms/step - loss: 2.1832 - accuracy: 0.5946\n",
            "Epoch 52/100\n",
            "484/484 [==============================] - 13s 26ms/step - loss: 2.1503 - accuracy: 0.6034\n",
            "Epoch 53/100\n",
            "484/484 [==============================] - 13s 26ms/step - loss: 2.1076 - accuracy: 0.6135\n",
            "Epoch 54/100\n",
            "484/484 [==============================] - 13s 26ms/step - loss: 2.0666 - accuracy: 0.6244\n",
            "Epoch 55/100\n",
            "484/484 [==============================] - 13s 26ms/step - loss: 2.0132 - accuracy: 0.6341\n",
            "Epoch 56/100\n",
            "484/484 [==============================] - 13s 26ms/step - loss: 1.9877 - accuracy: 0.6408\n",
            "Epoch 57/100\n",
            "484/484 [==============================] - 13s 26ms/step - loss: 1.9540 - accuracy: 0.6449\n",
            "Epoch 58/100\n",
            "484/484 [==============================] - 13s 26ms/step - loss: 1.9193 - accuracy: 0.6522\n",
            "Epoch 59/100\n",
            "484/484 [==============================] - 13s 26ms/step - loss: 1.8879 - accuracy: 0.6594\n",
            "Epoch 60/100\n",
            "484/484 [==============================] - 13s 26ms/step - loss: 1.8411 - accuracy: 0.6687\n",
            "Epoch 61/100\n",
            "484/484 [==============================] - 13s 26ms/step - loss: 1.8234 - accuracy: 0.6761\n",
            "Epoch 62/100\n",
            "484/484 [==============================] - 13s 26ms/step - loss: 1.7956 - accuracy: 0.6801\n",
            "Epoch 63/100\n",
            "484/484 [==============================] - 13s 26ms/step - loss: 1.7475 - accuracy: 0.6929\n",
            "Epoch 64/100\n",
            "484/484 [==============================] - 13s 26ms/step - loss: 1.7180 - accuracy: 0.6963\n",
            "Epoch 65/100\n",
            "484/484 [==============================] - 13s 26ms/step - loss: 1.6942 - accuracy: 0.6987\n",
            "Epoch 66/100\n",
            "484/484 [==============================] - 13s 27ms/step - loss: 1.6657 - accuracy: 0.7072\n",
            "Epoch 67/100\n",
            "484/484 [==============================] - 13s 26ms/step - loss: 1.6450 - accuracy: 0.7120\n",
            "Epoch 68/100\n",
            "484/484 [==============================] - 13s 26ms/step - loss: 1.6268 - accuracy: 0.7170\n",
            "Epoch 69/100\n",
            "484/484 [==============================] - 13s 26ms/step - loss: 1.6113 - accuracy: 0.7163\n",
            "Epoch 70/100\n",
            "484/484 [==============================] - 13s 26ms/step - loss: 1.5769 - accuracy: 0.7278\n",
            "Epoch 71/100\n",
            "484/484 [==============================] - 13s 26ms/step - loss: 1.5864 - accuracy: 0.7194\n",
            "Epoch 72/100\n",
            "484/484 [==============================] - 13s 26ms/step - loss: 1.5420 - accuracy: 0.7319\n",
            "Epoch 73/100\n",
            "484/484 [==============================] - 13s 26ms/step - loss: 1.4989 - accuracy: 0.7400\n",
            "Epoch 74/100\n",
            "484/484 [==============================] - 13s 26ms/step - loss: 1.4678 - accuracy: 0.7510\n",
            "Epoch 75/100\n",
            "484/484 [==============================] - 13s 26ms/step - loss: 1.4613 - accuracy: 0.7474\n",
            "Epoch 76/100\n",
            "484/484 [==============================] - 13s 26ms/step - loss: 1.4512 - accuracy: 0.7504\n",
            "Epoch 77/100\n",
            "484/484 [==============================] - 13s 27ms/step - loss: 1.4393 - accuracy: 0.7507\n",
            "Epoch 78/100\n",
            "484/484 [==============================] - 13s 27ms/step - loss: 1.4289 - accuracy: 0.7513\n",
            "Epoch 79/100\n",
            "484/484 [==============================] - 13s 27ms/step - loss: 1.3937 - accuracy: 0.7602\n",
            "Epoch 80/100\n",
            "484/484 [==============================] - 13s 27ms/step - loss: 1.3967 - accuracy: 0.7561\n",
            "Epoch 81/100\n",
            "484/484 [==============================] - 13s 26ms/step - loss: 1.3755 - accuracy: 0.7641\n",
            "Epoch 82/100\n",
            "484/484 [==============================] - 13s 26ms/step - loss: 1.3466 - accuracy: 0.7681\n",
            "Epoch 83/100\n",
            "484/484 [==============================] - 13s 26ms/step - loss: 1.3273 - accuracy: 0.7702\n",
            "Epoch 84/100\n",
            "484/484 [==============================] - 13s 26ms/step - loss: 1.3187 - accuracy: 0.7716\n",
            "Epoch 85/100\n",
            "484/484 [==============================] - 13s 26ms/step - loss: 1.3148 - accuracy: 0.7705\n",
            "Epoch 86/100\n",
            "484/484 [==============================] - 13s 26ms/step - loss: 1.2952 - accuracy: 0.7757\n",
            "Epoch 87/100\n",
            "484/484 [==============================] - 13s 26ms/step - loss: 1.2817 - accuracy: 0.7771\n",
            "Epoch 88/100\n",
            "484/484 [==============================] - 13s 26ms/step - loss: 1.2673 - accuracy: 0.7802\n",
            "Epoch 89/100\n",
            "484/484 [==============================] - 13s 26ms/step - loss: 1.2527 - accuracy: 0.7828\n",
            "Epoch 90/100\n",
            "484/484 [==============================] - 13s 26ms/step - loss: 1.2512 - accuracy: 0.7800\n",
            "Epoch 91/100\n",
            "484/484 [==============================] - 13s 27ms/step - loss: 1.2341 - accuracy: 0.7869\n",
            "Epoch 92/100\n",
            "484/484 [==============================] - 13s 26ms/step - loss: 1.2190 - accuracy: 0.7906\n",
            "Epoch 93/100\n",
            "484/484 [==============================] - 13s 26ms/step - loss: 1.2072 - accuracy: 0.7915\n",
            "Epoch 94/100\n",
            "484/484 [==============================] - 13s 26ms/step - loss: 1.1861 - accuracy: 0.7967\n",
            "Epoch 95/100\n",
            "484/484 [==============================] - 13s 26ms/step - loss: 1.1861 - accuracy: 0.7940\n",
            "Epoch 96/100\n",
            "484/484 [==============================] - 13s 27ms/step - loss: 1.1740 - accuracy: 0.7963\n",
            "Epoch 97/100\n",
            "484/484 [==============================] - 13s 27ms/step - loss: 1.1669 - accuracy: 0.7992\n",
            "Epoch 98/100\n",
            "484/484 [==============================] - 13s 27ms/step - loss: 1.1626 - accuracy: 0.7960\n",
            "Epoch 99/100\n",
            "484/484 [==============================] - 13s 27ms/step - loss: 1.1475 - accuracy: 0.7995\n",
            "Epoch 100/100\n",
            "484/484 [==============================] - 13s 27ms/step - loss: 1.1500 - accuracy: 0.7981\n"
          ],
          "name": "stdout"
        }
      ]
    },
    {
      "cell_type": "code",
      "metadata": {
        "colab_type": "code",
        "id": "1fXTEO3GJ282",
        "colab": {
          "base_uri": "https://localhost:8080/",
          "height": 545
        },
        "outputId": "1a67ae2b-406e-4119-eb33-764b60341dfc"
      },
      "source": [
        "import matplotlib.pyplot as plt\n",
        "acc = history.history['accuracy']\n",
        "loss = history.history['loss']\n",
        "\n",
        "epochs = range(len(acc))\n",
        "\n",
        "plt.plot(epochs, acc, 'b', label='Training accuracy')\n",
        "plt.title('Training accuracy')\n",
        "\n",
        "plt.figure()\n",
        "\n",
        "plt.plot(epochs, loss, 'b', label='Training Loss')\n",
        "plt.title('Training loss')\n",
        "plt.legend()\n",
        "\n",
        "plt.show()"
      ],
      "execution_count": 8,
      "outputs": [
        {
          "output_type": "display_data",
          "data": {
            "image/png": "[encoded data removed]",
            "text/plain": [
              "<Figure size 432x288 with 1 Axes>"
            ]
          },
          "metadata": {
            "tags": [],
            "needs_background": "light"
          }
        },
        {
          "output_type": "display_data",
          "data": {
            "image/png": "[encoded data removed]",
            "text/plain": [
              "<Figure size 432x288 with 1 Axes>"
            ]
          },
          "metadata": {
            "tags": [],
            "needs_background": "light"
          }
        }
      ]
    },
    {
      "cell_type": "code",
      "metadata": {
        "colab_type": "code",
        "id": "6Vc6PHgxa6Hm",
        "colab": {
          "base_uri": "https://localhost:8080/",
          "height": 105
        },
        "outputId": "5faf3f77-1f5f-4d60-962b-12056de11ece"
      },
      "source": [
        "seed_text = \"Help me Obi Wan Kenobi, you're my only hope\"\n",
        "next_words = 100\n",
        "  \n",
        "for _ in range(next_words):\n",
        "\ttoken_list = tokenizer.texts_to_sequences([seed_text])[0]\n",
        "\ttoken_list = pad_sequences([token_list], maxlen=max_sequence_len-1, padding='pre')\n",
        "\tpredicted = model.predict_classes(token_list, verbose=0)\n",
        "\toutput_word = \"\"\n",
        "\tfor word, index in tokenizer.word_index.items():\n",
        "\t\tif index == predicted:\n",
        "\t\t\toutput_word = word\n",
        "\t\t\tbreak\n",
        "\tseed_text += \" \" + output_word\n",
        "print(seed_text)"
      ],
      "execution_count": 9,
      "outputs": [
        {
          "output_type": "stream",
          "text": [
            "WARNING:tensorflow:From <ipython-input-9-622d307fa19a>:7: Sequential.predict_classes (from tensorflow.python.keras.engine.sequential) is deprecated and will be removed after 2021-01-01.\n",
            "Instructions for updating:\n",
            "Please use instead:* `np.argmax(model.predict(x), axis=-1)`,   if your model does multi-class classification   (e.g. if it uses a `softmax` last-layer activation).* `(model.predict(x) > 0.5).astype(\"int32\")`,   if your model does binary classification   (e.g. if it uses a `sigmoid` last-layer activation).\n",
            "Help me Obi Wan Kenobi, you're my only hope my leisure be taken short truth young or bright shines confounds hence they abide fortune grow on her treasure new dearly days alone but mine amiss eye ' shines so none live bright dear fired days held held ' shines so free lies men free free care to die make hate lie in much ill short eye pain bright prove thee light done live than hast mistaking bright evident saith not your might grow about 'tis men alone forth hence fortune pace heaven 'tis forth more 'no ' lies so treasure men such wrong ' alone alone alone alone thee\n"
          ],
          "name": "stdout"
        }
      ]
    }
  ]
}